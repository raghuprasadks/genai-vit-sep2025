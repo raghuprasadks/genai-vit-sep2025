{
  "cells": [
    {
      "cell_type": "markdown",
      "id": "8093e746",
      "metadata": {
        "id": "8093e746"
      },
      "source": [
        "# Next-Word Prediction with a Small Transformer (Keras/TensorFlow)"
      ]
    },
    {
      "cell_type": "code",
      "execution_count": 1,
      "id": "79eb5c57",
      "metadata": {
        "id": "79eb5c57"
      },
      "outputs": [],
      "source": [
        "\n",
        "!pip -q install tensorflow\n"
      ]
    },
    {
      "cell_type": "code",
      "execution_count": 2,
      "id": "c5ff2ea6",
      "metadata": {
        "colab": {
          "base_uri": "https://localhost:8080/"
        },
        "id": "c5ff2ea6",
        "outputId": "26805336-21d9-4e66-9ee8-8ae4c38af9b0"
      },
      "outputs": [
        {
          "output_type": "stream",
          "name": "stdout",
          "text": [
            "TF: 2.19.0\n"
          ]
        }
      ],
      "source": [
        "\n",
        "import numpy as np, tensorflow as tf\n",
        "from tensorflow.keras.preprocessing.text import Tokenizer\n",
        "from tensorflow.keras.preprocessing.sequence import pad_sequences\n",
        "from tensorflow.keras import layers, Model\n",
        "\n",
        "tf.random.set_seed(42)\n",
        "np.random.seed(42)\n",
        "print(\"TF:\", tf.__version__)\n"
      ]
    },
    {
      "cell_type": "code",
      "execution_count": 8,
      "id": "c1f3e66d",
      "metadata": {
        "colab": {
          "base_uri": "https://localhost:8080/"
        },
        "id": "c1f3e66d",
        "outputId": "725bac5b-a4d3-4c12-9217-15e6d84208d1"
      },
      "outputs": [
        {
          "output_type": "execute_result",
          "data": {
            "text/plain": [
              "{'<oov>': 1,\n",
              " 'alice': 2,\n",
              " 'was': 3,\n",
              " 'beginning': 4,\n",
              " 'to': 5,\n",
              " 'get': 6,\n",
              " 'very': 7,\n",
              " 'tired': 8,\n",
              " 'of': 9,\n",
              " 'sitting': 10,\n",
              " 'by': 11,\n",
              " 'her': 12,\n",
              " 'sister': 13,\n",
              " 'on': 14,\n",
              " 'the': 15,\n",
              " 'bank': 16}"
            ]
          },
          "metadata": {},
          "execution_count": 8
        }
      ],
      "source": [
        "\n",
        "corpus_text = \"Alice was beginning to get very tired of sitting by her sister on the bank.\".lower()\n",
        "tokenizer = Tokenizer(oov_token=\"<oov>\")\n",
        "tokenizer.fit_on_texts([corpus_text])\n",
        "word_index = tokenizer.word_index\n",
        "word_index\n"
      ]
    },
    {
      "cell_type": "code",
      "source": [
        "id_to_word = {i:w for w,i in word_index.items()}\n",
        "id_to_word"
      ],
      "metadata": {
        "colab": {
          "base_uri": "https://localhost:8080/"
        },
        "id": "umt3HdYMsKRG",
        "outputId": "771aa966-52fc-418e-dc2b-890d2c9bf2cc"
      },
      "id": "umt3HdYMsKRG",
      "execution_count": 9,
      "outputs": [
        {
          "output_type": "execute_result",
          "data": {
            "text/plain": [
              "{1: '<oov>',\n",
              " 2: 'alice',\n",
              " 3: 'was',\n",
              " 4: 'beginning',\n",
              " 5: 'to',\n",
              " 6: 'get',\n",
              " 7: 'very',\n",
              " 8: 'tired',\n",
              " 9: 'of',\n",
              " 10: 'sitting',\n",
              " 11: 'by',\n",
              " 12: 'her',\n",
              " 13: 'sister',\n",
              " 14: 'on',\n",
              " 15: 'the',\n",
              " 16: 'bank'}"
            ]
          },
          "metadata": {},
          "execution_count": 9
        }
      ]
    },
    {
      "cell_type": "code",
      "source": [
        "vocab_size = len(word_index) + 1\n",
        "tokens = tokenizer.texts_to_sequences([corpus_text])[0]\n",
        "tokens\n"
      ],
      "metadata": {
        "colab": {
          "base_uri": "https://localhost:8080/"
        },
        "id": "EjyoOX4Ts0ZQ",
        "outputId": "3b38eb6b-59c6-40e5-8050-ce5caf97cebf"
      },
      "id": "EjyoOX4Ts0ZQ",
      "execution_count": 12,
      "outputs": [
        {
          "output_type": "execute_result",
          "data": {
            "text/plain": [
              "[2, 3, 4, 5, 6, 7, 8, 9, 10, 11, 12, 13, 14, 15, 16]"
            ]
          },
          "metadata": {},
          "execution_count": 12
        }
      ]
    },
    {
      "cell_type": "code",
      "source": [
        "sequences = [tokens[:i] for i in range(2, len(tokens))]\n",
        "sequences"
      ],
      "metadata": {
        "colab": {
          "base_uri": "https://localhost:8080/"
        },
        "id": "TaPhW8sYu40Y",
        "outputId": "67b04b8f-4051-4acf-d91d-a6e52c8b9903"
      },
      "id": "TaPhW8sYu40Y",
      "execution_count": 16,
      "outputs": [
        {
          "output_type": "execute_result",
          "data": {
            "text/plain": [
              "[[2, 3],\n",
              " [2, 3, 4],\n",
              " [2, 3, 4, 5],\n",
              " [2, 3, 4, 5, 6],\n",
              " [2, 3, 4, 5, 6, 7],\n",
              " [2, 3, 4, 5, 6, 7, 8],\n",
              " [2, 3, 4, 5, 6, 7, 8, 9],\n",
              " [2, 3, 4, 5, 6, 7, 8, 9, 10],\n",
              " [2, 3, 4, 5, 6, 7, 8, 9, 10, 11],\n",
              " [2, 3, 4, 5, 6, 7, 8, 9, 10, 11, 12],\n",
              " [2, 3, 4, 5, 6, 7, 8, 9, 10, 11, 12, 13],\n",
              " [2, 3, 4, 5, 6, 7, 8, 9, 10, 11, 12, 13, 14],\n",
              " [2, 3, 4, 5, 6, 7, 8, 9, 10, 11, 12, 13, 14, 15]]"
            ]
          },
          "metadata": {},
          "execution_count": 16
        }
      ]
    },
    {
      "cell_type": "code",
      "source": [
        "max_len = max(len(s) for s in sequences)\n",
        "max_len"
      ],
      "metadata": {
        "colab": {
          "base_uri": "https://localhost:8080/"
        },
        "id": "lgUpQuRGvuVH",
        "outputId": "bd9a014c-982a-482e-c53c-969dfd26ab13"
      },
      "id": "lgUpQuRGvuVH",
      "execution_count": 17,
      "outputs": [
        {
          "output_type": "execute_result",
          "data": {
            "text/plain": [
              "14"
            ]
          },
          "metadata": {},
          "execution_count": 17
        }
      ]
    },
    {
      "cell_type": "code",
      "source": [
        "padded = pad_sequences(sequences, maxlen=max_len, padding='pre')\n",
        "padded"
      ],
      "metadata": {
        "colab": {
          "base_uri": "https://localhost:8080/"
        },
        "id": "wUwAVm2IwAJz",
        "outputId": "a1377152-224f-4fa7-fc98-62890ed403de"
      },
      "id": "wUwAVm2IwAJz",
      "execution_count": 18,
      "outputs": [
        {
          "output_type": "execute_result",
          "data": {
            "text/plain": [
              "array([[ 0,  0,  0,  0,  0,  0,  0,  0,  0,  0,  0,  0,  2,  3],\n",
              "       [ 0,  0,  0,  0,  0,  0,  0,  0,  0,  0,  0,  2,  3,  4],\n",
              "       [ 0,  0,  0,  0,  0,  0,  0,  0,  0,  0,  2,  3,  4,  5],\n",
              "       [ 0,  0,  0,  0,  0,  0,  0,  0,  0,  2,  3,  4,  5,  6],\n",
              "       [ 0,  0,  0,  0,  0,  0,  0,  0,  2,  3,  4,  5,  6,  7],\n",
              "       [ 0,  0,  0,  0,  0,  0,  0,  2,  3,  4,  5,  6,  7,  8],\n",
              "       [ 0,  0,  0,  0,  0,  0,  2,  3,  4,  5,  6,  7,  8,  9],\n",
              "       [ 0,  0,  0,  0,  0,  2,  3,  4,  5,  6,  7,  8,  9, 10],\n",
              "       [ 0,  0,  0,  0,  2,  3,  4,  5,  6,  7,  8,  9, 10, 11],\n",
              "       [ 0,  0,  0,  2,  3,  4,  5,  6,  7,  8,  9, 10, 11, 12],\n",
              "       [ 0,  0,  2,  3,  4,  5,  6,  7,  8,  9, 10, 11, 12, 13],\n",
              "       [ 0,  2,  3,  4,  5,  6,  7,  8,  9, 10, 11, 12, 13, 14],\n",
              "       [ 2,  3,  4,  5,  6,  7,  8,  9, 10, 11, 12, 13, 14, 15]],\n",
              "      dtype=int32)"
            ]
          },
          "metadata": {},
          "execution_count": 18
        }
      ]
    },
    {
      "cell_type": "code",
      "source": [
        "X = padded[:, :-1]\n",
        "y = padded[:, -1]"
      ],
      "metadata": {
        "id": "3Pqb6xRlwNLV"
      },
      "id": "3Pqb6xRlwNLV",
      "execution_count": 19,
      "outputs": []
    },
    {
      "cell_type": "code",
      "source": [
        "X"
      ],
      "metadata": {
        "colab": {
          "base_uri": "https://localhost:8080/"
        },
        "id": "_nvI__oKvYyG",
        "outputId": "13927c25-b13d-4818-8a88-09519b945553"
      },
      "id": "_nvI__oKvYyG",
      "execution_count": 20,
      "outputs": [
        {
          "output_type": "execute_result",
          "data": {
            "text/plain": [
              "array([[ 0,  0,  0,  0,  0,  0,  0,  0,  0,  0,  0,  0,  2],\n",
              "       [ 0,  0,  0,  0,  0,  0,  0,  0,  0,  0,  0,  2,  3],\n",
              "       [ 0,  0,  0,  0,  0,  0,  0,  0,  0,  0,  2,  3,  4],\n",
              "       [ 0,  0,  0,  0,  0,  0,  0,  0,  0,  2,  3,  4,  5],\n",
              "       [ 0,  0,  0,  0,  0,  0,  0,  0,  2,  3,  4,  5,  6],\n",
              "       [ 0,  0,  0,  0,  0,  0,  0,  2,  3,  4,  5,  6,  7],\n",
              "       [ 0,  0,  0,  0,  0,  0,  2,  3,  4,  5,  6,  7,  8],\n",
              "       [ 0,  0,  0,  0,  0,  2,  3,  4,  5,  6,  7,  8,  9],\n",
              "       [ 0,  0,  0,  0,  2,  3,  4,  5,  6,  7,  8,  9, 10],\n",
              "       [ 0,  0,  0,  2,  3,  4,  5,  6,  7,  8,  9, 10, 11],\n",
              "       [ 0,  0,  2,  3,  4,  5,  6,  7,  8,  9, 10, 11, 12],\n",
              "       [ 0,  2,  3,  4,  5,  6,  7,  8,  9, 10, 11, 12, 13],\n",
              "       [ 2,  3,  4,  5,  6,  7,  8,  9, 10, 11, 12, 13, 14]], dtype=int32)"
            ]
          },
          "metadata": {},
          "execution_count": 20
        }
      ]
    },
    {
      "cell_type": "code",
      "source": [
        "y"
      ],
      "metadata": {
        "colab": {
          "base_uri": "https://localhost:8080/"
        },
        "id": "LeslMQJ8vXb3",
        "outputId": "817502ff-d75b-49e8-8130-52788d2f7934"
      },
      "id": "LeslMQJ8vXb3",
      "execution_count": 21,
      "outputs": [
        {
          "output_type": "execute_result",
          "data": {
            "text/plain": [
              "array([ 3,  4,  5,  6,  7,  8,  9, 10, 11, 12, 13, 14, 15], dtype=int32)"
            ]
          },
          "metadata": {},
          "execution_count": 21
        }
      ]
    },
    {
      "cell_type": "code",
      "execution_count": 22,
      "id": "55e77026",
      "metadata": {
        "id": "55e77026"
      },
      "outputs": [],
      "source": [
        "\n",
        "class PositionalEmbedding(layers.Layer):\n",
        "    def __init__(self, vocab_size, d_model, max_len):\n",
        "        super().__init__()\n",
        "        self.token_emb = layers.Embedding(vocab_size, d_model)\n",
        "        self.pos_emb = layers.Embedding(max_len, d_model)\n",
        "    def call(self, x):\n",
        "        seq_len = tf.shape(x)[1]\n",
        "        positions = tf.range(start=0, limit=seq_len, delta=1)\n",
        "        pos = self.pos_emb(positions)\n",
        "        return self.token_emb(x) + pos[tf.newaxis, :, :]\n",
        "\n",
        "def causal_mask(seq_len):\n",
        "    i = tf.range(seq_len)[:, None]\n",
        "    j = tf.range(seq_len)[None, :]\n",
        "    return tf.cast(i >= j, dtype=tf.bool)\n",
        "\n",
        "class TransformerDecoderBlock(layers.Layer):\n",
        "    def __init__(self, d_model, num_heads, dff):\n",
        "        super().__init__()\n",
        "        self.ln1 = layers.LayerNormalization(epsilon=1e-6)\n",
        "        self.mha = layers.MultiHeadAttention(num_heads=num_heads, key_dim=d_model)\n",
        "        self.ln2 = layers.LayerNormalization(epsilon=1e-6)\n",
        "        self.ffn = tf.keras.Sequential([layers.Dense(dff, activation='relu'),\n",
        "                                        layers.Dense(d_model)])\n",
        "    def call(self, x, mask=None):\n",
        "        h = self.ln1(x)\n",
        "        attn = self.mha(h, h, attention_mask=mask)\n",
        "        x = x + attn\n",
        "        h2 = self.ln2(x)\n",
        "        x = x + self.ffn(h2)\n",
        "        return x\n"
      ]
    },
    {
      "cell_type": "code",
      "execution_count": 24,
      "id": "ae604927",
      "metadata": {
        "colab": {
          "base_uri": "https://localhost:8080/",
          "height": 435
        },
        "id": "ae604927",
        "outputId": "1644b10a-63f7-4687-c03e-97c41bcd21ca"
      },
      "outputs": [
        {
          "output_type": "display_data",
          "data": {
            "text/plain": [
              "\u001b[1mModel: \"functional_8\"\u001b[0m\n"
            ],
            "text/html": [
              "<pre style=\"white-space:pre;overflow-x:auto;line-height:normal;font-family:Menlo,'DejaVu Sans Mono',consolas,'Courier New',monospace\"><span style=\"font-weight: bold\">Model: \"functional_8\"</span>\n",
              "</pre>\n"
            ]
          },
          "metadata": {}
        },
        {
          "output_type": "display_data",
          "data": {
            "text/plain": [
              "┏━━━━━━━━━━━━━━━━━━━━━━━━━━━━━━━━━┳━━━━━━━━━━━━━━━━━━━━━━━━┳━━━━━━━━━━━━━━━┓\n",
              "┃\u001b[1m \u001b[0m\u001b[1mLayer (type)                   \u001b[0m\u001b[1m \u001b[0m┃\u001b[1m \u001b[0m\u001b[1mOutput Shape          \u001b[0m\u001b[1m \u001b[0m┃\u001b[1m \u001b[0m\u001b[1m      Param #\u001b[0m\u001b[1m \u001b[0m┃\n",
              "┡━━━━━━━━━━━━━━━━━━━━━━━━━━━━━━━━━╇━━━━━━━━━━━━━━━━━━━━━━━━╇━━━━━━━━━━━━━━━┩\n",
              "│ input_layer_6 (\u001b[38;5;33mInputLayer\u001b[0m)      │ (\u001b[38;5;45mNone\u001b[0m, \u001b[38;5;34m13\u001b[0m)             │             \u001b[38;5;34m0\u001b[0m │\n",
              "├─────────────────────────────────┼────────────────────────┼───────────────┤\n",
              "│ positional_embedding_2          │ (\u001b[38;5;45mNone\u001b[0m, \u001b[38;5;34m13\u001b[0m, \u001b[38;5;34m64\u001b[0m)         │         \u001b[38;5;34m1,984\u001b[0m │\n",
              "│ (\u001b[38;5;33mPositionalEmbedding\u001b[0m)           │                        │               │\n",
              "├─────────────────────────────────┼────────────────────────┼───────────────┤\n",
              "│ transformer_decoder_block_4     │ (\u001b[38;5;45mNone\u001b[0m, \u001b[38;5;34m13\u001b[0m, \u001b[38;5;34m64\u001b[0m)         │        \u001b[38;5;34m50,048\u001b[0m │\n",
              "│ (\u001b[38;5;33mTransformerDecoderBlock\u001b[0m)       │                        │               │\n",
              "├─────────────────────────────────┼────────────────────────┼───────────────┤\n",
              "│ transformer_decoder_block_5     │ (\u001b[38;5;45mNone\u001b[0m, \u001b[38;5;34m13\u001b[0m, \u001b[38;5;34m64\u001b[0m)         │        \u001b[38;5;34m50,048\u001b[0m │\n",
              "│ (\u001b[38;5;33mTransformerDecoderBlock\u001b[0m)       │                        │               │\n",
              "├─────────────────────────────────┼────────────────────────┼───────────────┤\n",
              "│ layer_normalization_14          │ (\u001b[38;5;45mNone\u001b[0m, \u001b[38;5;34m13\u001b[0m, \u001b[38;5;34m64\u001b[0m)         │           \u001b[38;5;34m128\u001b[0m │\n",
              "│ (\u001b[38;5;33mLayerNormalization\u001b[0m)            │                        │               │\n",
              "├─────────────────────────────────┼────────────────────────┼───────────────┤\n",
              "│ get_item_2 (\u001b[38;5;33mGetItem\u001b[0m)            │ (\u001b[38;5;45mNone\u001b[0m, \u001b[38;5;34m64\u001b[0m)             │             \u001b[38;5;34m0\u001b[0m │\n",
              "├─────────────────────────────────┼────────────────────────┼───────────────┤\n",
              "│ dense_14 (\u001b[38;5;33mDense\u001b[0m)                │ (\u001b[38;5;45mNone\u001b[0m, \u001b[38;5;34m17\u001b[0m)             │         \u001b[38;5;34m1,105\u001b[0m │\n",
              "└─────────────────────────────────┴────────────────────────┴───────────────┘\n"
            ],
            "text/html": [
              "<pre style=\"white-space:pre;overflow-x:auto;line-height:normal;font-family:Menlo,'DejaVu Sans Mono',consolas,'Courier New',monospace\">┏━━━━━━━━━━━━━━━━━━━━━━━━━━━━━━━━━┳━━━━━━━━━━━━━━━━━━━━━━━━┳━━━━━━━━━━━━━━━┓\n",
              "┃<span style=\"font-weight: bold\"> Layer (type)                    </span>┃<span style=\"font-weight: bold\"> Output Shape           </span>┃<span style=\"font-weight: bold\">       Param # </span>┃\n",
              "┡━━━━━━━━━━━━━━━━━━━━━━━━━━━━━━━━━╇━━━━━━━━━━━━━━━━━━━━━━━━╇━━━━━━━━━━━━━━━┩\n",
              "│ input_layer_6 (<span style=\"color: #0087ff; text-decoration-color: #0087ff\">InputLayer</span>)      │ (<span style=\"color: #00d7ff; text-decoration-color: #00d7ff\">None</span>, <span style=\"color: #00af00; text-decoration-color: #00af00\">13</span>)             │             <span style=\"color: #00af00; text-decoration-color: #00af00\">0</span> │\n",
              "├─────────────────────────────────┼────────────────────────┼───────────────┤\n",
              "│ positional_embedding_2          │ (<span style=\"color: #00d7ff; text-decoration-color: #00d7ff\">None</span>, <span style=\"color: #00af00; text-decoration-color: #00af00\">13</span>, <span style=\"color: #00af00; text-decoration-color: #00af00\">64</span>)         │         <span style=\"color: #00af00; text-decoration-color: #00af00\">1,984</span> │\n",
              "│ (<span style=\"color: #0087ff; text-decoration-color: #0087ff\">PositionalEmbedding</span>)           │                        │               │\n",
              "├─────────────────────────────────┼────────────────────────┼───────────────┤\n",
              "│ transformer_decoder_block_4     │ (<span style=\"color: #00d7ff; text-decoration-color: #00d7ff\">None</span>, <span style=\"color: #00af00; text-decoration-color: #00af00\">13</span>, <span style=\"color: #00af00; text-decoration-color: #00af00\">64</span>)         │        <span style=\"color: #00af00; text-decoration-color: #00af00\">50,048</span> │\n",
              "│ (<span style=\"color: #0087ff; text-decoration-color: #0087ff\">TransformerDecoderBlock</span>)       │                        │               │\n",
              "├─────────────────────────────────┼────────────────────────┼───────────────┤\n",
              "│ transformer_decoder_block_5     │ (<span style=\"color: #00d7ff; text-decoration-color: #00d7ff\">None</span>, <span style=\"color: #00af00; text-decoration-color: #00af00\">13</span>, <span style=\"color: #00af00; text-decoration-color: #00af00\">64</span>)         │        <span style=\"color: #00af00; text-decoration-color: #00af00\">50,048</span> │\n",
              "│ (<span style=\"color: #0087ff; text-decoration-color: #0087ff\">TransformerDecoderBlock</span>)       │                        │               │\n",
              "├─────────────────────────────────┼────────────────────────┼───────────────┤\n",
              "│ layer_normalization_14          │ (<span style=\"color: #00d7ff; text-decoration-color: #00d7ff\">None</span>, <span style=\"color: #00af00; text-decoration-color: #00af00\">13</span>, <span style=\"color: #00af00; text-decoration-color: #00af00\">64</span>)         │           <span style=\"color: #00af00; text-decoration-color: #00af00\">128</span> │\n",
              "│ (<span style=\"color: #0087ff; text-decoration-color: #0087ff\">LayerNormalization</span>)            │                        │               │\n",
              "├─────────────────────────────────┼────────────────────────┼───────────────┤\n",
              "│ get_item_2 (<span style=\"color: #0087ff; text-decoration-color: #0087ff\">GetItem</span>)            │ (<span style=\"color: #00d7ff; text-decoration-color: #00d7ff\">None</span>, <span style=\"color: #00af00; text-decoration-color: #00af00\">64</span>)             │             <span style=\"color: #00af00; text-decoration-color: #00af00\">0</span> │\n",
              "├─────────────────────────────────┼────────────────────────┼───────────────┤\n",
              "│ dense_14 (<span style=\"color: #0087ff; text-decoration-color: #0087ff\">Dense</span>)                │ (<span style=\"color: #00d7ff; text-decoration-color: #00d7ff\">None</span>, <span style=\"color: #00af00; text-decoration-color: #00af00\">17</span>)             │         <span style=\"color: #00af00; text-decoration-color: #00af00\">1,105</span> │\n",
              "└─────────────────────────────────┴────────────────────────┴───────────────┘\n",
              "</pre>\n"
            ]
          },
          "metadata": {}
        },
        {
          "output_type": "display_data",
          "data": {
            "text/plain": [
              "\u001b[1m Total params: \u001b[0m\u001b[38;5;34m103,313\u001b[0m (403.57 KB)\n"
            ],
            "text/html": [
              "<pre style=\"white-space:pre;overflow-x:auto;line-height:normal;font-family:Menlo,'DejaVu Sans Mono',consolas,'Courier New',monospace\"><span style=\"font-weight: bold\"> Total params: </span><span style=\"color: #00af00; text-decoration-color: #00af00\">103,313</span> (403.57 KB)\n",
              "</pre>\n"
            ]
          },
          "metadata": {}
        },
        {
          "output_type": "display_data",
          "data": {
            "text/plain": [
              "\u001b[1m Trainable params: \u001b[0m\u001b[38;5;34m103,313\u001b[0m (403.57 KB)\n"
            ],
            "text/html": [
              "<pre style=\"white-space:pre;overflow-x:auto;line-height:normal;font-family:Menlo,'DejaVu Sans Mono',consolas,'Courier New',monospace\"><span style=\"font-weight: bold\"> Trainable params: </span><span style=\"color: #00af00; text-decoration-color: #00af00\">103,313</span> (403.57 KB)\n",
              "</pre>\n"
            ]
          },
          "metadata": {}
        },
        {
          "output_type": "display_data",
          "data": {
            "text/plain": [
              "\u001b[1m Non-trainable params: \u001b[0m\u001b[38;5;34m0\u001b[0m (0.00 B)\n"
            ],
            "text/html": [
              "<pre style=\"white-space:pre;overflow-x:auto;line-height:normal;font-family:Menlo,'DejaVu Sans Mono',consolas,'Courier New',monospace\"><span style=\"font-weight: bold\"> Non-trainable params: </span><span style=\"color: #00af00; text-decoration-color: #00af00\">0</span> (0.00 B)\n",
              "</pre>\n"
            ]
          },
          "metadata": {}
        }
      ],
      "source": [
        "\n",
        "d_model=64; num_heads=2; dff=128; num_layers=2\n",
        "seq_len = X.shape[1]\n",
        "inputs = layers.Input(shape=(seq_len,), dtype=tf.int32)\n",
        "x = PositionalEmbedding(vocab_size, d_model, max_len)(inputs)\n",
        "mask = causal_mask(seq_len)[tf.newaxis, ...]\n",
        "for _ in range(num_layers):\n",
        "    x = TransformerDecoderBlock(d_model,num_heads,dff)(x,mask=mask)\n",
        "x = layers.LayerNormalization(epsilon=1e-6)(x)\n",
        "x_last = x[:, -1, :]\n",
        "outputs = layers.Dense(vocab_size, activation='softmax')(x_last)\n",
        "model = Model(inputs, outputs)\n",
        "model.compile(optimizer='adam', loss='sparse_categorical_crossentropy', metrics=['accuracy'])\n",
        "model.summary()\n"
      ]
    },
    {
      "cell_type": "code",
      "execution_count": 25,
      "id": "c8dc0de5",
      "metadata": {
        "colab": {
          "base_uri": "https://localhost:8080/"
        },
        "id": "c8dc0de5",
        "outputId": "a0657eb8-9b64-4c48-d616-b62035f89c02"
      },
      "outputs": [
        {
          "output_type": "stream",
          "name": "stdout",
          "text": [
            "Epoch 1/10\n",
            "\u001b[1m1/1\u001b[0m \u001b[32m━━━━━━━━━━━━━━━━━━━━\u001b[0m\u001b[37m\u001b[0m \u001b[1m9s\u001b[0m 9s/step - accuracy: 0.0769 - loss: 3.2079\n",
            "Epoch 2/10\n",
            "\u001b[1m1/1\u001b[0m \u001b[32m━━━━━━━━━━━━━━━━━━━━\u001b[0m\u001b[37m\u001b[0m \u001b[1m1s\u001b[0m 1s/step - accuracy: 0.0769 - loss: 2.6853\n",
            "Epoch 3/10\n",
            "\u001b[1m1/1\u001b[0m \u001b[32m━━━━━━━━━━━━━━━━━━━━\u001b[0m\u001b[37m\u001b[0m \u001b[1m0s\u001b[0m 56ms/step - accuracy: 0.1538 - loss: 2.2201\n",
            "Epoch 4/10\n",
            "\u001b[1m1/1\u001b[0m \u001b[32m━━━━━━━━━━━━━━━━━━━━\u001b[0m\u001b[37m\u001b[0m \u001b[1m0s\u001b[0m 58ms/step - accuracy: 0.3077 - loss: 1.9785\n",
            "Epoch 5/10\n",
            "\u001b[1m1/1\u001b[0m \u001b[32m━━━━━━━━━━━━━━━━━━━━\u001b[0m\u001b[37m\u001b[0m \u001b[1m0s\u001b[0m 38ms/step - accuracy: 0.5385 - loss: 1.7008\n",
            "Epoch 6/10\n",
            "\u001b[1m1/1\u001b[0m \u001b[32m━━━━━━━━━━━━━━━━━━━━\u001b[0m\u001b[37m\u001b[0m \u001b[1m0s\u001b[0m 60ms/step - accuracy: 0.5385 - loss: 1.4928\n",
            "Epoch 7/10\n",
            "\u001b[1m1/1\u001b[0m \u001b[32m━━━━━━━━━━━━━━━━━━━━\u001b[0m\u001b[37m\u001b[0m \u001b[1m0s\u001b[0m 42ms/step - accuracy: 0.6154 - loss: 1.3020\n",
            "Epoch 8/10\n",
            "\u001b[1m1/1\u001b[0m \u001b[32m━━━━━━━━━━━━━━━━━━━━\u001b[0m\u001b[37m\u001b[0m \u001b[1m0s\u001b[0m 43ms/step - accuracy: 0.8462 - loss: 1.1096\n",
            "Epoch 9/10\n",
            "\u001b[1m1/1\u001b[0m \u001b[32m━━━━━━━━━━━━━━━━━━━━\u001b[0m\u001b[37m\u001b[0m \u001b[1m0s\u001b[0m 40ms/step - accuracy: 0.8462 - loss: 0.9486\n",
            "Epoch 10/10\n",
            "\u001b[1m1/1\u001b[0m \u001b[32m━━━━━━━━━━━━━━━━━━━━\u001b[0m\u001b[37m\u001b[0m \u001b[1m0s\u001b[0m 61ms/step - accuracy: 0.8462 - loss: 0.8005\n"
          ]
        },
        {
          "output_type": "execute_result",
          "data": {
            "text/plain": [
              "<keras.src.callbacks.history.History at 0x7b5c60a135c0>"
            ]
          },
          "metadata": {},
          "execution_count": 25
        }
      ],
      "source": [
        "\n",
        "model.fit(X, y, epochs=10, verbose=1)\n"
      ]
    },
    {
      "cell_type": "code",
      "execution_count": 26,
      "id": "3d9c13cf",
      "metadata": {
        "colab": {
          "base_uri": "https://localhost:8080/"
        },
        "id": "3d9c13cf",
        "outputId": "081342d7-635c-417c-de9c-465fc233df3a"
      },
      "outputs": [
        {
          "output_type": "stream",
          "name": "stdout",
          "text": [
            "alice was beginning was beginning get very\n"
          ]
        }
      ],
      "source": [
        "\n",
        "def generate_next_words(seed, num_words=5):\n",
        "    text = seed.lower()\n",
        "    for _ in range(num_words):\n",
        "        seq = tokenizer.texts_to_sequences([text])[0]\n",
        "        seq = seq[-seq_len:]\n",
        "        seq = pad_sequences([seq], maxlen=seq_len, padding='pre')\n",
        "        probs = model.predict(seq, verbose=0)[0]\n",
        "        next_id = int(np.argmax(probs))\n",
        "        next_word = id_to_word.get(next_id, \"<unk>\")\n",
        "        text += \" \" + next_word\n",
        "    return text\n",
        "\n",
        "print(generate_next_words(\"alice was\", num_words=5))\n"
      ]
    }
  ],
  "metadata": {
    "colab": {
      "provenance": [],
      "gpuType": "T4"
    },
    "accelerator": "GPU",
    "language_info": {
      "name": "python"
    },
    "kernelspec": {
      "name": "python3",
      "display_name": "Python 3"
    }
  },
  "nbformat": 4,
  "nbformat_minor": 5
}