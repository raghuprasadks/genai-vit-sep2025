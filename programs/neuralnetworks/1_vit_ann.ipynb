{
  "nbformat": 4,
  "nbformat_minor": 0,
  "metadata": {
    "colab": {
      "provenance": []
    },
    "kernelspec": {
      "name": "python3",
      "display_name": "Python 3"
    },
    "language_info": {
      "name": "python"
    }
  },
  "cells": [
    {
      "cell_type": "code",
      "execution_count": 1,
      "metadata": {
        "id": "845ZFus3D0FY"
      },
      "outputs": [],
      "source": []
    },
    {
      "cell_type": "markdown",
      "metadata": {
        "id": "8ebc10b5"
      },
      "source": [
        "# Task\n",
        "Build and train an Artificial Neural Network (ANN) using Keras for a regression problem using publicly available data, and evaluate its performance."
      ]
    },
    {
      "cell_type": "markdown",
      "metadata": {
        "id": "d0538739"
      },
      "source": [
        "## Load data\n",
        "\n",
        "### Subtask:\n",
        "Load a publicly available regression dataset.\n"
      ]
    },
    {
      "cell_type": "markdown",
      "metadata": {
        "id": "3cbf6511"
      },
      "source": [
        "**Reasoning**:\n",
        "Load the California Housing dataset from scikit-learn and display the first 5 rows and the shape of the DataFrame.\n",
        "\n"
      ]
    },
    {
      "cell_type": "code",
      "metadata": {
        "colab": {
          "base_uri": "https://localhost:8080/",
          "height": 223
        },
        "id": "2a869a43",
        "outputId": "ccab5bdf-e497-4e5d-c840-c176a2995172"
      },
      "source": [
        "from sklearn.datasets import fetch_california_housing\n",
        "import pandas as pd\n",
        "\n",
        "housing = fetch_california_housing()\n",
        "df = pd.DataFrame(housing.data, columns=housing.feature_names)\n",
        "df['MedHouseVal'] = housing.target\n",
        "\n",
        "display(df.head())\n",
        "print(df.shape)"
      ],
      "execution_count": 2,
      "outputs": [
        {
          "output_type": "display_data",
          "data": {
            "text/plain": [
              "   MedInc  HouseAge  AveRooms  AveBedrms  Population  AveOccup  Latitude  \\\n",
              "0  8.3252      41.0  6.984127   1.023810       322.0  2.555556     37.88   \n",
              "1  8.3014      21.0  6.238137   0.971880      2401.0  2.109842     37.86   \n",
              "2  7.2574      52.0  8.288136   1.073446       496.0  2.802260     37.85   \n",
              "3  5.6431      52.0  5.817352   1.073059       558.0  2.547945     37.85   \n",
              "4  3.8462      52.0  6.281853   1.081081       565.0  2.181467     37.85   \n",
              "\n",
              "   Longitude  MedHouseVal  \n",
              "0    -122.23        4.526  \n",
              "1    -122.22        3.585  \n",
              "2    -122.24        3.521  \n",
              "3    -122.25        3.413  \n",
              "4    -122.25        3.422  "
            ],
            "text/html": [
              "\n",
              "  <div id=\"df-96a47937-1063-4fb4-9058-8309f8bdfe7d\" class=\"colab-df-container\">\n",
              "    <div>\n",
              "<style scoped>\n",
              "    .dataframe tbody tr th:only-of-type {\n",
              "        vertical-align: middle;\n",
              "    }\n",
              "\n",
              "    .dataframe tbody tr th {\n",
              "        vertical-align: top;\n",
              "    }\n",
              "\n",
              "    .dataframe thead th {\n",
              "        text-align: right;\n",
              "    }\n",
              "</style>\n",
              "<table border=\"1\" class=\"dataframe\">\n",
              "  <thead>\n",
              "    <tr style=\"text-align: right;\">\n",
              "      <th></th>\n",
              "      <th>MedInc</th>\n",
              "      <th>HouseAge</th>\n",
              "      <th>AveRooms</th>\n",
              "      <th>AveBedrms</th>\n",
              "      <th>Population</th>\n",
              "      <th>AveOccup</th>\n",
              "      <th>Latitude</th>\n",
              "      <th>Longitude</th>\n",
              "      <th>MedHouseVal</th>\n",
              "    </tr>\n",
              "  </thead>\n",
              "  <tbody>\n",
              "    <tr>\n",
              "      <th>0</th>\n",
              "      <td>8.3252</td>\n",
              "      <td>41.0</td>\n",
              "      <td>6.984127</td>\n",
              "      <td>1.023810</td>\n",
              "      <td>322.0</td>\n",
              "      <td>2.555556</td>\n",
              "      <td>37.88</td>\n",
              "      <td>-122.23</td>\n",
              "      <td>4.526</td>\n",
              "    </tr>\n",
              "    <tr>\n",
              "      <th>1</th>\n",
              "      <td>8.3014</td>\n",
              "      <td>21.0</td>\n",
              "      <td>6.238137</td>\n",
              "      <td>0.971880</td>\n",
              "      <td>2401.0</td>\n",
              "      <td>2.109842</td>\n",
              "      <td>37.86</td>\n",
              "      <td>-122.22</td>\n",
              "      <td>3.585</td>\n",
              "    </tr>\n",
              "    <tr>\n",
              "      <th>2</th>\n",
              "      <td>7.2574</td>\n",
              "      <td>52.0</td>\n",
              "      <td>8.288136</td>\n",
              "      <td>1.073446</td>\n",
              "      <td>496.0</td>\n",
              "      <td>2.802260</td>\n",
              "      <td>37.85</td>\n",
              "      <td>-122.24</td>\n",
              "      <td>3.521</td>\n",
              "    </tr>\n",
              "    <tr>\n",
              "      <th>3</th>\n",
              "      <td>5.6431</td>\n",
              "      <td>52.0</td>\n",
              "      <td>5.817352</td>\n",
              "      <td>1.073059</td>\n",
              "      <td>558.0</td>\n",
              "      <td>2.547945</td>\n",
              "      <td>37.85</td>\n",
              "      <td>-122.25</td>\n",
              "      <td>3.413</td>\n",
              "    </tr>\n",
              "    <tr>\n",
              "      <th>4</th>\n",
              "      <td>3.8462</td>\n",
              "      <td>52.0</td>\n",
              "      <td>6.281853</td>\n",
              "      <td>1.081081</td>\n",
              "      <td>565.0</td>\n",
              "      <td>2.181467</td>\n",
              "      <td>37.85</td>\n",
              "      <td>-122.25</td>\n",
              "      <td>3.422</td>\n",
              "    </tr>\n",
              "  </tbody>\n",
              "</table>\n",
              "</div>\n",
              "    <div class=\"colab-df-buttons\">\n",
              "\n",
              "  <div class=\"colab-df-container\">\n",
              "    <button class=\"colab-df-convert\" onclick=\"convertToInteractive('df-96a47937-1063-4fb4-9058-8309f8bdfe7d')\"\n",
              "            title=\"Convert this dataframe to an interactive table.\"\n",
              "            style=\"display:none;\">\n",
              "\n",
              "  <svg xmlns=\"http://www.w3.org/2000/svg\" height=\"24px\" viewBox=\"0 -960 960 960\">\n",
              "    <path d=\"M120-120v-720h720v720H120Zm60-500h600v-160H180v160Zm220 220h160v-160H400v160Zm0 220h160v-160H400v160ZM180-400h160v-160H180v160Zm440 0h160v-160H620v160ZM180-180h160v-160H180v160Zm440 0h160v-160H620v160Z\"/>\n",
              "  </svg>\n",
              "    </button>\n",
              "\n",
              "  <style>\n",
              "    .colab-df-container {\n",
              "      display:flex;\n",
              "      gap: 12px;\n",
              "    }\n",
              "\n",
              "    .colab-df-convert {\n",
              "      background-color: #E8F0FE;\n",
              "      border: none;\n",
              "      border-radius: 50%;\n",
              "      cursor: pointer;\n",
              "      display: none;\n",
              "      fill: #1967D2;\n",
              "      height: 32px;\n",
              "      padding: 0 0 0 0;\n",
              "      width: 32px;\n",
              "    }\n",
              "\n",
              "    .colab-df-convert:hover {\n",
              "      background-color: #E2EBFA;\n",
              "      box-shadow: 0px 1px 2px rgba(60, 64, 67, 0.3), 0px 1px 3px 1px rgba(60, 64, 67, 0.15);\n",
              "      fill: #174EA6;\n",
              "    }\n",
              "\n",
              "    .colab-df-buttons div {\n",
              "      margin-bottom: 4px;\n",
              "    }\n",
              "\n",
              "    [theme=dark] .colab-df-convert {\n",
              "      background-color: #3B4455;\n",
              "      fill: #D2E3FC;\n",
              "    }\n",
              "\n",
              "    [theme=dark] .colab-df-convert:hover {\n",
              "      background-color: #434B5C;\n",
              "      box-shadow: 0px 1px 3px 1px rgba(0, 0, 0, 0.15);\n",
              "      filter: drop-shadow(0px 1px 2px rgba(0, 0, 0, 0.3));\n",
              "      fill: #FFFFFF;\n",
              "    }\n",
              "  </style>\n",
              "\n",
              "    <script>\n",
              "      const buttonEl =\n",
              "        document.querySelector('#df-96a47937-1063-4fb4-9058-8309f8bdfe7d button.colab-df-convert');\n",
              "      buttonEl.style.display =\n",
              "        google.colab.kernel.accessAllowed ? 'block' : 'none';\n",
              "\n",
              "      async function convertToInteractive(key) {\n",
              "        const element = document.querySelector('#df-96a47937-1063-4fb4-9058-8309f8bdfe7d');\n",
              "        const dataTable =\n",
              "          await google.colab.kernel.invokeFunction('convertToInteractive',\n",
              "                                                    [key], {});\n",
              "        if (!dataTable) return;\n",
              "\n",
              "        const docLinkHtml = 'Like what you see? Visit the ' +\n",
              "          '<a target=\"_blank\" href=https://colab.research.google.com/notebooks/data_table.ipynb>data table notebook</a>'\n",
              "          + ' to learn more about interactive tables.';\n",
              "        element.innerHTML = '';\n",
              "        dataTable['output_type'] = 'display_data';\n",
              "        await google.colab.output.renderOutput(dataTable, element);\n",
              "        const docLink = document.createElement('div');\n",
              "        docLink.innerHTML = docLinkHtml;\n",
              "        element.appendChild(docLink);\n",
              "      }\n",
              "    </script>\n",
              "  </div>\n",
              "\n",
              "\n",
              "    <div id=\"df-1c62a0cc-c704-4ce6-8fea-514593bbe291\">\n",
              "      <button class=\"colab-df-quickchart\" onclick=\"quickchart('df-1c62a0cc-c704-4ce6-8fea-514593bbe291')\"\n",
              "                title=\"Suggest charts\"\n",
              "                style=\"display:none;\">\n",
              "\n",
              "<svg xmlns=\"http://www.w3.org/2000/svg\" height=\"24px\"viewBox=\"0 0 24 24\"\n",
              "     width=\"24px\">\n",
              "    <g>\n",
              "        <path d=\"M19 3H5c-1.1 0-2 .9-2 2v14c0 1.1.9 2 2 2h14c1.1 0 2-.9 2-2V5c0-1.1-.9-2-2-2zM9 17H7v-7h2v7zm4 0h-2V7h2v10zm4 0h-2v-4h2v4z\"/>\n",
              "    </g>\n",
              "</svg>\n",
              "      </button>\n",
              "\n",
              "<style>\n",
              "  .colab-df-quickchart {\n",
              "      --bg-color: #E8F0FE;\n",
              "      --fill-color: #1967D2;\n",
              "      --hover-bg-color: #E2EBFA;\n",
              "      --hover-fill-color: #174EA6;\n",
              "      --disabled-fill-color: #AAA;\n",
              "      --disabled-bg-color: #DDD;\n",
              "  }\n",
              "\n",
              "  [theme=dark] .colab-df-quickchart {\n",
              "      --bg-color: #3B4455;\n",
              "      --fill-color: #D2E3FC;\n",
              "      --hover-bg-color: #434B5C;\n",
              "      --hover-fill-color: #FFFFFF;\n",
              "      --disabled-bg-color: #3B4455;\n",
              "      --disabled-fill-color: #666;\n",
              "  }\n",
              "\n",
              "  .colab-df-quickchart {\n",
              "    background-color: var(--bg-color);\n",
              "    border: none;\n",
              "    border-radius: 50%;\n",
              "    cursor: pointer;\n",
              "    display: none;\n",
              "    fill: var(--fill-color);\n",
              "    height: 32px;\n",
              "    padding: 0;\n",
              "    width: 32px;\n",
              "  }\n",
              "\n",
              "  .colab-df-quickchart:hover {\n",
              "    background-color: var(--hover-bg-color);\n",
              "    box-shadow: 0 1px 2px rgba(60, 64, 67, 0.3), 0 1px 3px 1px rgba(60, 64, 67, 0.15);\n",
              "    fill: var(--button-hover-fill-color);\n",
              "  }\n",
              "\n",
              "  .colab-df-quickchart-complete:disabled,\n",
              "  .colab-df-quickchart-complete:disabled:hover {\n",
              "    background-color: var(--disabled-bg-color);\n",
              "    fill: var(--disabled-fill-color);\n",
              "    box-shadow: none;\n",
              "  }\n",
              "\n",
              "  .colab-df-spinner {\n",
              "    border: 2px solid var(--fill-color);\n",
              "    border-color: transparent;\n",
              "    border-bottom-color: var(--fill-color);\n",
              "    animation:\n",
              "      spin 1s steps(1) infinite;\n",
              "  }\n",
              "\n",
              "  @keyframes spin {\n",
              "    0% {\n",
              "      border-color: transparent;\n",
              "      border-bottom-color: var(--fill-color);\n",
              "      border-left-color: var(--fill-color);\n",
              "    }\n",
              "    20% {\n",
              "      border-color: transparent;\n",
              "      border-left-color: var(--fill-color);\n",
              "      border-top-color: var(--fill-color);\n",
              "    }\n",
              "    30% {\n",
              "      border-color: transparent;\n",
              "      border-left-color: var(--fill-color);\n",
              "      border-top-color: var(--fill-color);\n",
              "      border-right-color: var(--fill-color);\n",
              "    }\n",
              "    40% {\n",
              "      border-color: transparent;\n",
              "      border-right-color: var(--fill-color);\n",
              "      border-top-color: var(--fill-color);\n",
              "    }\n",
              "    60% {\n",
              "      border-color: transparent;\n",
              "      border-right-color: var(--fill-color);\n",
              "    }\n",
              "    80% {\n",
              "      border-color: transparent;\n",
              "      border-right-color: var(--fill-color);\n",
              "      border-bottom-color: var(--fill-color);\n",
              "    }\n",
              "    90% {\n",
              "      border-color: transparent;\n",
              "      border-bottom-color: var(--fill-color);\n",
              "    }\n",
              "  }\n",
              "</style>\n",
              "\n",
              "      <script>\n",
              "        async function quickchart(key) {\n",
              "          const quickchartButtonEl =\n",
              "            document.querySelector('#' + key + ' button');\n",
              "          quickchartButtonEl.disabled = true;  // To prevent multiple clicks.\n",
              "          quickchartButtonEl.classList.add('colab-df-spinner');\n",
              "          try {\n",
              "            const charts = await google.colab.kernel.invokeFunction(\n",
              "                'suggestCharts', [key], {});\n",
              "          } catch (error) {\n",
              "            console.error('Error during call to suggestCharts:', error);\n",
              "          }\n",
              "          quickchartButtonEl.classList.remove('colab-df-spinner');\n",
              "          quickchartButtonEl.classList.add('colab-df-quickchart-complete');\n",
              "        }\n",
              "        (() => {\n",
              "          let quickchartButtonEl =\n",
              "            document.querySelector('#df-1c62a0cc-c704-4ce6-8fea-514593bbe291 button');\n",
              "          quickchartButtonEl.style.display =\n",
              "            google.colab.kernel.accessAllowed ? 'block' : 'none';\n",
              "        })();\n",
              "      </script>\n",
              "    </div>\n",
              "\n",
              "    </div>\n",
              "  </div>\n"
            ],
            "application/vnd.google.colaboratory.intrinsic+json": {
              "type": "dataframe",
              "summary": "{\n  \"name\": \"print(df\",\n  \"rows\": 5,\n  \"fields\": [\n    {\n      \"column\": \"MedInc\",\n      \"properties\": {\n        \"dtype\": \"number\",\n        \"std\": 1.9218775476080674,\n        \"min\": 3.8462,\n        \"max\": 8.3252,\n        \"num_unique_values\": 5,\n        \"samples\": [\n          8.3014,\n          3.8462,\n          7.2574\n        ],\n        \"semantic_type\": \"\",\n        \"description\": \"\"\n      }\n    },\n    {\n      \"column\": \"HouseAge\",\n      \"properties\": {\n        \"dtype\": \"number\",\n        \"std\": 13.501851724856113,\n        \"min\": 21.0,\n        \"max\": 52.0,\n        \"num_unique_values\": 3,\n        \"samples\": [\n          41.0,\n          21.0,\n          52.0\n        ],\n        \"semantic_type\": \"\",\n        \"description\": \"\"\n      }\n    },\n    {\n      \"column\": \"AveRooms\",\n      \"properties\": {\n        \"dtype\": \"number\",\n        \"std\": 0.9705323807243326,\n        \"min\": 5.8173515981735155,\n        \"max\": 8.288135593220339,\n        \"num_unique_values\": 5,\n        \"samples\": [\n          6.238137082601054,\n          6.281853281853282,\n          8.288135593220339\n        ],\n        \"semantic_type\": \"\",\n        \"description\": \"\"\n      }\n    },\n    {\n      \"column\": \"AveBedrms\",\n      \"properties\": {\n        \"dtype\": \"number\",\n        \"std\": 0.04661885487529508,\n        \"min\": 0.9718804920913884,\n        \"max\": 1.0810810810810811,\n        \"num_unique_values\": 5,\n        \"samples\": [\n          0.9718804920913884,\n          1.0810810810810811,\n          1.073446327683616\n        ],\n        \"semantic_type\": \"\",\n        \"description\": \"\"\n      }\n    },\n    {\n      \"column\": \"Population\",\n      \"properties\": {\n        \"dtype\": \"number\",\n        \"std\": 862.3365352343596,\n        \"min\": 322.0,\n        \"max\": 2401.0,\n        \"num_unique_values\": 5,\n        \"samples\": [\n          2401.0,\n          565.0,\n          496.0\n        ],\n        \"semantic_type\": \"\",\n        \"description\": \"\"\n      }\n    },\n    {\n      \"column\": \"AveOccup\",\n      \"properties\": {\n        \"dtype\": \"number\",\n        \"std\": 0.2881316535489867,\n        \"min\": 2.109841827768014,\n        \"max\": 2.8022598870056497,\n        \"num_unique_values\": 5,\n        \"samples\": [\n          2.109841827768014,\n          2.1814671814671813,\n          2.8022598870056497\n        ],\n        \"semantic_type\": \"\",\n        \"description\": \"\"\n      }\n    },\n    {\n      \"column\": \"Latitude\",\n      \"properties\": {\n        \"dtype\": \"number\",\n        \"std\": 0.0130384048104057,\n        \"min\": 37.85,\n        \"max\": 37.88,\n        \"num_unique_values\": 3,\n        \"samples\": [\n          37.88,\n          37.86,\n          37.85\n        ],\n        \"semantic_type\": \"\",\n        \"description\": \"\"\n      }\n    },\n    {\n      \"column\": \"Longitude\",\n      \"properties\": {\n        \"dtype\": \"number\",\n        \"std\": 0.013038404810404884,\n        \"min\": -122.25,\n        \"max\": -122.22,\n        \"num_unique_values\": 4,\n        \"samples\": [\n          -122.22,\n          -122.25,\n          -122.23\n        ],\n        \"semantic_type\": \"\",\n        \"description\": \"\"\n      }\n    },\n    {\n      \"column\": \"MedHouseVal\",\n      \"properties\": {\n        \"dtype\": \"number\",\n        \"std\": 0.4708973348830931,\n        \"min\": 3.413,\n        \"max\": 4.526,\n        \"num_unique_values\": 5,\n        \"samples\": [\n          3.585,\n          3.422,\n          3.521\n        ],\n        \"semantic_type\": \"\",\n        \"description\": \"\"\n      }\n    }\n  ]\n}"
            }
          },
          "metadata": {}
        },
        {
          "output_type": "stream",
          "name": "stdout",
          "text": [
            "(20640, 9)\n"
          ]
        }
      ]
    },
    {
      "cell_type": "markdown",
      "metadata": {
        "id": "c0313b6c"
      },
      "source": [
        "## Preprocess data\n",
        "\n",
        "### Subtask:\n",
        "Clean the data, handle missing values, encode categorical features, and scale numerical features.\n"
      ]
    },
    {
      "cell_type": "markdown",
      "metadata": {
        "id": "efc3d997"
      },
      "source": [
        "**Reasoning**:\n",
        "Check for missing values, separate features and target, and scale the features.\n",
        "\n"
      ]
    },
    {
      "cell_type": "code",
      "metadata": {
        "colab": {
          "base_uri": "https://localhost:8080/"
        },
        "id": "443b18a2",
        "outputId": "fa6a717e-f6c4-4ce2-cd0a-182b2b6dff5e"
      },
      "source": [
        "print(df.isnull().sum())\n",
        "\n",
        "X = df.drop('MedHouseVal', axis=1)\n",
        "y = df['MedHouseVal']\n",
        "\n",
        "from sklearn.preprocessing import StandardScaler\n",
        "\n",
        "scaler = StandardScaler()\n",
        "X_scaled = scaler.fit_transform(X)"
      ],
      "execution_count": 3,
      "outputs": [
        {
          "output_type": "stream",
          "name": "stdout",
          "text": [
            "MedInc         0\n",
            "HouseAge       0\n",
            "AveRooms       0\n",
            "AveBedrms      0\n",
            "Population     0\n",
            "AveOccup       0\n",
            "Latitude       0\n",
            "Longitude      0\n",
            "MedHouseVal    0\n",
            "dtype: int64\n"
          ]
        }
      ]
    },
    {
      "cell_type": "markdown",
      "metadata": {
        "id": "e5db7cde"
      },
      "source": [
        "## Split data\n",
        "\n",
        "### Subtask:\n",
        "Split the data into training and testing sets.\n"
      ]
    },
    {
      "cell_type": "markdown",
      "metadata": {
        "id": "3324ad09"
      },
      "source": [
        "**Reasoning**:\n",
        "Import the necessary function and split the scaled features and target variable into training and testing sets.\n",
        "\n"
      ]
    },
    {
      "cell_type": "code",
      "metadata": {
        "colab": {
          "base_uri": "https://localhost:8080/"
        },
        "id": "3316f78a",
        "outputId": "9154f1e8-099c-4e9d-fe49-d2908548ab12"
      },
      "source": [
        "from sklearn.model_selection import train_test_split\n",
        "\n",
        "X_train, X_test, y_train, y_test = train_test_split(X_scaled, y, test_size=0.2, random_state=42)\n",
        "\n",
        "print(\"Shape of X_train:\", X_train.shape)\n",
        "print(\"Shape of X_test:\", X_test.shape)\n",
        "print(\"Shape of y_train:\", y_train.shape)\n",
        "print(\"Shape of y_test:\", y_test.shape)"
      ],
      "execution_count": 4,
      "outputs": [
        {
          "output_type": "stream",
          "name": "stdout",
          "text": [
            "Shape of X_train: (16512, 8)\n",
            "Shape of X_test: (4128, 8)\n",
            "Shape of y_train: (16512,)\n",
            "Shape of y_test: (4128,)\n"
          ]
        }
      ]
    },
    {
      "cell_type": "markdown",
      "metadata": {
        "id": "dbe573e0"
      },
      "source": [
        "## Build ann model\n",
        "\n",
        "### Subtask:\n",
        "Define the architecture of the Artificial Neural Network using Keras, including input layer, hidden layers with activation functions, and output layer.\n"
      ]
    },
    {
      "cell_type": "markdown",
      "metadata": {
        "id": "18b5671b"
      },
      "source": [
        "**Reasoning**:\n",
        "Import the necessary Keras modules for defining the ANN architecture.\n",
        "\n"
      ]
    },
    {
      "cell_type": "code",
      "metadata": {
        "id": "09acb207"
      },
      "source": [
        "from tensorflow.keras.models import Sequential\n",
        "from tensorflow.keras.layers import Dense"
      ],
      "execution_count": 5,
      "outputs": []
    },
    {
      "cell_type": "markdown",
      "metadata": {
        "id": "4f476c77"
      },
      "source": [
        "**Reasoning**:\n",
        "Define the architecture of the ANN, including the input layer, hidden layers, and output layer, based on the instructions.\n",
        "\n"
      ]
    },
    {
      "cell_type": "code",
      "metadata": {
        "colab": {
          "base_uri": "https://localhost:8080/",
          "height": 289
        },
        "id": "96144add",
        "outputId": "7ac4df04-1b6c-403b-f3b8-ac87df71b047"
      },
      "source": [
        "model = Sequential()\n",
        "model.add(Dense(64, activation='relu', input_shape=(X_train.shape[1],)))\n",
        "model.add(Dense(64, activation='relu'))\n",
        "model.add(Dense(1))\n",
        "\n",
        "model.summary()"
      ],
      "execution_count": 6,
      "outputs": [
        {
          "output_type": "stream",
          "name": "stderr",
          "text": [
            "/usr/local/lib/python3.12/dist-packages/keras/src/layers/core/dense.py:93: UserWarning: Do not pass an `input_shape`/`input_dim` argument to a layer. When using Sequential models, prefer using an `Input(shape)` object as the first layer in the model instead.\n",
            "  super().__init__(activity_regularizer=activity_regularizer, **kwargs)\n"
          ]
        },
        {
          "output_type": "display_data",
          "data": {
            "text/plain": [
              "\u001b[1mModel: \"sequential\"\u001b[0m\n"
            ],
            "text/html": [
              "<pre style=\"white-space:pre;overflow-x:auto;line-height:normal;font-family:Menlo,'DejaVu Sans Mono',consolas,'Courier New',monospace\"><span style=\"font-weight: bold\">Model: \"sequential\"</span>\n",
              "</pre>\n"
            ]
          },
          "metadata": {}
        },
        {
          "output_type": "display_data",
          "data": {
            "text/plain": [
              "┏━━━━━━━━━━━━━━━━━━━━━━━━━━━━━━━━━┳━━━━━━━━━━━━━━━━━━━━━━━━┳━━━━━━━━━━━━━━━┓\n",
              "┃\u001b[1m \u001b[0m\u001b[1mLayer (type)                   \u001b[0m\u001b[1m \u001b[0m┃\u001b[1m \u001b[0m\u001b[1mOutput Shape          \u001b[0m\u001b[1m \u001b[0m┃\u001b[1m \u001b[0m\u001b[1m      Param #\u001b[0m\u001b[1m \u001b[0m┃\n",
              "┡━━━━━━━━━━━━━━━━━━━━━━━━━━━━━━━━━╇━━━━━━━━━━━━━━━━━━━━━━━━╇━━━━━━━━━━━━━━━┩\n",
              "│ dense (\u001b[38;5;33mDense\u001b[0m)                   │ (\u001b[38;5;45mNone\u001b[0m, \u001b[38;5;34m64\u001b[0m)             │           \u001b[38;5;34m576\u001b[0m │\n",
              "├─────────────────────────────────┼────────────────────────┼───────────────┤\n",
              "│ dense_1 (\u001b[38;5;33mDense\u001b[0m)                 │ (\u001b[38;5;45mNone\u001b[0m, \u001b[38;5;34m64\u001b[0m)             │         \u001b[38;5;34m4,160\u001b[0m │\n",
              "├─────────────────────────────────┼────────────────────────┼───────────────┤\n",
              "│ dense_2 (\u001b[38;5;33mDense\u001b[0m)                 │ (\u001b[38;5;45mNone\u001b[0m, \u001b[38;5;34m1\u001b[0m)              │            \u001b[38;5;34m65\u001b[0m │\n",
              "└─────────────────────────────────┴────────────────────────┴───────────────┘\n"
            ],
            "text/html": [
              "<pre style=\"white-space:pre;overflow-x:auto;line-height:normal;font-family:Menlo,'DejaVu Sans Mono',consolas,'Courier New',monospace\">┏━━━━━━━━━━━━━━━━━━━━━━━━━━━━━━━━━┳━━━━━━━━━━━━━━━━━━━━━━━━┳━━━━━━━━━━━━━━━┓\n",
              "┃<span style=\"font-weight: bold\"> Layer (type)                    </span>┃<span style=\"font-weight: bold\"> Output Shape           </span>┃<span style=\"font-weight: bold\">       Param # </span>┃\n",
              "┡━━━━━━━━━━━━━━━━━━━━━━━━━━━━━━━━━╇━━━━━━━━━━━━━━━━━━━━━━━━╇━━━━━━━━━━━━━━━┩\n",
              "│ dense (<span style=\"color: #0087ff; text-decoration-color: #0087ff\">Dense</span>)                   │ (<span style=\"color: #00d7ff; text-decoration-color: #00d7ff\">None</span>, <span style=\"color: #00af00; text-decoration-color: #00af00\">64</span>)             │           <span style=\"color: #00af00; text-decoration-color: #00af00\">576</span> │\n",
              "├─────────────────────────────────┼────────────────────────┼───────────────┤\n",
              "│ dense_1 (<span style=\"color: #0087ff; text-decoration-color: #0087ff\">Dense</span>)                 │ (<span style=\"color: #00d7ff; text-decoration-color: #00d7ff\">None</span>, <span style=\"color: #00af00; text-decoration-color: #00af00\">64</span>)             │         <span style=\"color: #00af00; text-decoration-color: #00af00\">4,160</span> │\n",
              "├─────────────────────────────────┼────────────────────────┼───────────────┤\n",
              "│ dense_2 (<span style=\"color: #0087ff; text-decoration-color: #0087ff\">Dense</span>)                 │ (<span style=\"color: #00d7ff; text-decoration-color: #00d7ff\">None</span>, <span style=\"color: #00af00; text-decoration-color: #00af00\">1</span>)              │            <span style=\"color: #00af00; text-decoration-color: #00af00\">65</span> │\n",
              "└─────────────────────────────────┴────────────────────────┴───────────────┘\n",
              "</pre>\n"
            ]
          },
          "metadata": {}
        },
        {
          "output_type": "display_data",
          "data": {
            "text/plain": [
              "\u001b[1m Total params: \u001b[0m\u001b[38;5;34m4,801\u001b[0m (18.75 KB)\n"
            ],
            "text/html": [
              "<pre style=\"white-space:pre;overflow-x:auto;line-height:normal;font-family:Menlo,'DejaVu Sans Mono',consolas,'Courier New',monospace\"><span style=\"font-weight: bold\"> Total params: </span><span style=\"color: #00af00; text-decoration-color: #00af00\">4,801</span> (18.75 KB)\n",
              "</pre>\n"
            ]
          },
          "metadata": {}
        },
        {
          "output_type": "display_data",
          "data": {
            "text/plain": [
              "\u001b[1m Trainable params: \u001b[0m\u001b[38;5;34m4,801\u001b[0m (18.75 KB)\n"
            ],
            "text/html": [
              "<pre style=\"white-space:pre;overflow-x:auto;line-height:normal;font-family:Menlo,'DejaVu Sans Mono',consolas,'Courier New',monospace\"><span style=\"font-weight: bold\"> Trainable params: </span><span style=\"color: #00af00; text-decoration-color: #00af00\">4,801</span> (18.75 KB)\n",
              "</pre>\n"
            ]
          },
          "metadata": {}
        },
        {
          "output_type": "display_data",
          "data": {
            "text/plain": [
              "\u001b[1m Non-trainable params: \u001b[0m\u001b[38;5;34m0\u001b[0m (0.00 B)\n"
            ],
            "text/html": [
              "<pre style=\"white-space:pre;overflow-x:auto;line-height:normal;font-family:Menlo,'DejaVu Sans Mono',consolas,'Courier New',monospace\"><span style=\"font-weight: bold\"> Non-trainable params: </span><span style=\"color: #00af00; text-decoration-color: #00af00\">0</span> (0.00 B)\n",
              "</pre>\n"
            ]
          },
          "metadata": {}
        }
      ]
    },
    {
      "cell_type": "code",
      "source": [
        "X_train.shape[1]"
      ],
      "metadata": {
        "colab": {
          "base_uri": "https://localhost:8080/"
        },
        "id": "ibE7_sAfLxPC",
        "outputId": "894f2d67-96e4-4767-c576-f51c8d21d543"
      },
      "execution_count": 7,
      "outputs": [
        {
          "output_type": "execute_result",
          "data": {
            "text/plain": [
              "8"
            ]
          },
          "metadata": {},
          "execution_count": 7
        }
      ]
    },
    {
      "cell_type": "markdown",
      "metadata": {
        "id": "baa20d85"
      },
      "source": [
        "## Compile model\n",
        "\n",
        "### Subtask:\n",
        "Compile the model by specifying the optimizer, loss function, and metrics.\n"
      ]
    },
    {
      "cell_type": "markdown",
      "metadata": {
        "id": "ba7793b7"
      },
      "source": [
        "**Reasoning**:\n",
        "Compile the defined Keras model with the specified optimizer, loss function, and metrics.\n",
        "\n"
      ]
    },
    {
      "cell_type": "code",
      "metadata": {
        "id": "778e956a"
      },
      "source": [
        "model.compile(optimizer='adam', loss='mean_squared_error', metrics=['mean_absolute_error'])"
      ],
      "execution_count": 8,
      "outputs": []
    },
    {
      "cell_type": "markdown",
      "metadata": {
        "id": "fa0fd50a"
      },
      "source": [
        "## Train model\n",
        "\n",
        "### Subtask:\n",
        "Train the model on the training data.\n"
      ]
    },
    {
      "cell_type": "markdown",
      "metadata": {
        "id": "d453abf5"
      },
      "source": [
        "**Reasoning**:\n",
        "Train the compiled Keras model using the fit method with the training data and specify the number of epochs. Include validation data to monitor performance during training and store the history.\n",
        "\n"
      ]
    },
    {
      "cell_type": "code",
      "metadata": {
        "colab": {
          "base_uri": "https://localhost:8080/"
        },
        "id": "3ea53c94",
        "outputId": "1877de14-18e1-4f9a-bebc-202fe4829856"
      },
      "source": [
        "history = model.fit(X_train, y_train, epochs=100, validation_data=(X_test, y_test))"
      ],
      "execution_count": 9,
      "outputs": [
        {
          "output_type": "stream",
          "name": "stdout",
          "text": [
            "Epoch 1/100\n",
            "\u001b[1m516/516\u001b[0m \u001b[32m━━━━━━━━━━━━━━━━━━━━\u001b[0m\u001b[37m\u001b[0m \u001b[1m2s\u001b[0m 2ms/step - loss: 1.3739 - mean_absolute_error: 0.7972 - val_loss: 0.4282 - val_mean_absolute_error: 0.4629\n",
            "Epoch 2/100\n",
            "\u001b[1m516/516\u001b[0m \u001b[32m━━━━━━━━━━━━━━━━━━━━\u001b[0m\u001b[37m\u001b[0m \u001b[1m1s\u001b[0m 2ms/step - loss: 0.4025 - mean_absolute_error: 0.4459 - val_loss: 0.3786 - val_mean_absolute_error: 0.4384\n",
            "Epoch 3/100\n",
            "\u001b[1m516/516\u001b[0m \u001b[32m━━━━━━━━━━━━━━━━━━━━\u001b[0m\u001b[37m\u001b[0m \u001b[1m2s\u001b[0m 3ms/step - loss: 0.4062 - mean_absolute_error: 0.4388 - val_loss: 0.3574 - val_mean_absolute_error: 0.4221\n",
            "Epoch 4/100\n",
            "\u001b[1m516/516\u001b[0m \u001b[32m━━━━━━━━━━━━━━━━━━━━\u001b[0m\u001b[37m\u001b[0m \u001b[1m3s\u001b[0m 3ms/step - loss: 0.3424 - mean_absolute_error: 0.4133 - val_loss: 0.3473 - val_mean_absolute_error: 0.4187\n",
            "Epoch 5/100\n",
            "\u001b[1m516/516\u001b[0m \u001b[32m━━━━━━━━━━━━━━━━━━━━\u001b[0m\u001b[37m\u001b[0m \u001b[1m3s\u001b[0m 3ms/step - loss: 0.3225 - mean_absolute_error: 0.4031 - val_loss: 0.3474 - val_mean_absolute_error: 0.4126\n",
            "Epoch 6/100\n",
            "\u001b[1m516/516\u001b[0m \u001b[32m━━━━━━━━━━━━━━━━━━━━\u001b[0m\u001b[37m\u001b[0m \u001b[1m1s\u001b[0m 3ms/step - loss: 0.3220 - mean_absolute_error: 0.3984 - val_loss: 0.3309 - val_mean_absolute_error: 0.4150\n",
            "Epoch 7/100\n",
            "\u001b[1m516/516\u001b[0m \u001b[32m━━━━━━━━━━━━━━━━━━━━\u001b[0m\u001b[37m\u001b[0m \u001b[1m1s\u001b[0m 3ms/step - loss: 0.3119 - mean_absolute_error: 0.3912 - val_loss: 0.3156 - val_mean_absolute_error: 0.3878\n",
            "Epoch 8/100\n",
            "\u001b[1m516/516\u001b[0m \u001b[32m━━━━━━━━━━━━━━━━━━━━\u001b[0m\u001b[37m\u001b[0m \u001b[1m3s\u001b[0m 3ms/step - loss: 0.3048 - mean_absolute_error: 0.3843 - val_loss: 0.3127 - val_mean_absolute_error: 0.3955\n",
            "Epoch 9/100\n",
            "\u001b[1m516/516\u001b[0m \u001b[32m━━━━━━━━━━━━━━━━━━━━\u001b[0m\u001b[37m\u001b[0m \u001b[1m2s\u001b[0m 3ms/step - loss: 0.3003 - mean_absolute_error: 0.3789 - val_loss: 0.3114 - val_mean_absolute_error: 0.3907\n",
            "Epoch 10/100\n",
            "\u001b[1m516/516\u001b[0m \u001b[32m━━━━━━━━━━━━━━━━━━━━\u001b[0m\u001b[37m\u001b[0m \u001b[1m2s\u001b[0m 3ms/step - loss: 0.2976 - mean_absolute_error: 0.3783 - val_loss: 0.2990 - val_mean_absolute_error: 0.3748\n",
            "Epoch 11/100\n",
            "\u001b[1m516/516\u001b[0m \u001b[32m━━━━━━━━━━━━━━━━━━━━\u001b[0m\u001b[37m\u001b[0m \u001b[1m3s\u001b[0m 3ms/step - loss: 0.2932 - mean_absolute_error: 0.3753 - val_loss: 0.3110 - val_mean_absolute_error: 0.3913\n",
            "Epoch 12/100\n",
            "\u001b[1m516/516\u001b[0m \u001b[32m━━━━━━━━━━━━━━━━━━━━\u001b[0m\u001b[37m\u001b[0m \u001b[1m3s\u001b[0m 3ms/step - loss: 0.3259 - mean_absolute_error: 0.3779 - val_loss: 0.3257 - val_mean_absolute_error: 0.3947\n",
            "Epoch 13/100\n",
            "\u001b[1m516/516\u001b[0m \u001b[32m━━━━━━━━━━━━━━━━━━━━\u001b[0m\u001b[37m\u001b[0m \u001b[1m2s\u001b[0m 3ms/step - loss: 0.2900 - mean_absolute_error: 0.3717 - val_loss: 0.3137 - val_mean_absolute_error: 0.3805\n",
            "Epoch 14/100\n",
            "\u001b[1m516/516\u001b[0m \u001b[32m━━━━━━━━━━━━━━━━━━━━\u001b[0m\u001b[37m\u001b[0m \u001b[1m3s\u001b[0m 4ms/step - loss: 0.2800 - mean_absolute_error: 0.3629 - val_loss: 0.2974 - val_mean_absolute_error: 0.3783\n",
            "Epoch 15/100\n",
            "\u001b[1m516/516\u001b[0m \u001b[32m━━━━━━━━━━━━━━━━━━━━\u001b[0m\u001b[37m\u001b[0m \u001b[1m1s\u001b[0m 2ms/step - loss: 0.2863 - mean_absolute_error: 0.3690 - val_loss: 0.3076 - val_mean_absolute_error: 0.3694\n",
            "Epoch 16/100\n",
            "\u001b[1m516/516\u001b[0m \u001b[32m━━━━━━━━━━━━━━━━━━━━\u001b[0m\u001b[37m\u001b[0m \u001b[1m1s\u001b[0m 2ms/step - loss: 0.2798 - mean_absolute_error: 0.3670 - val_loss: 0.2907 - val_mean_absolute_error: 0.3690\n",
            "Epoch 17/100\n",
            "\u001b[1m516/516\u001b[0m \u001b[32m━━━━━━━━━━━━━━━━━━━━\u001b[0m\u001b[37m\u001b[0m \u001b[1m1s\u001b[0m 2ms/step - loss: 0.2788 - mean_absolute_error: 0.3625 - val_loss: 0.2938 - val_mean_absolute_error: 0.3729\n",
            "Epoch 18/100\n",
            "\u001b[1m516/516\u001b[0m \u001b[32m━━━━━━━━━━━━━━━━━━━━\u001b[0m\u001b[37m\u001b[0m \u001b[1m1s\u001b[0m 2ms/step - loss: 0.2693 - mean_absolute_error: 0.3582 - val_loss: 0.2947 - val_mean_absolute_error: 0.3673\n",
            "Epoch 19/100\n",
            "\u001b[1m516/516\u001b[0m \u001b[32m━━━━━━━━━━━━━━━━━━━━\u001b[0m\u001b[37m\u001b[0m \u001b[1m1s\u001b[0m 2ms/step - loss: 0.2808 - mean_absolute_error: 0.3617 - val_loss: 0.2822 - val_mean_absolute_error: 0.3604\n",
            "Epoch 20/100\n",
            "\u001b[1m516/516\u001b[0m \u001b[32m━━━━━━━━━━━━━━━━━━━━\u001b[0m\u001b[37m\u001b[0m \u001b[1m1s\u001b[0m 3ms/step - loss: 0.2606 - mean_absolute_error: 0.3512 - val_loss: 0.2843 - val_mean_absolute_error: 0.3691\n",
            "Epoch 21/100\n",
            "\u001b[1m516/516\u001b[0m \u001b[32m━━━━━━━━━━━━━━━━━━━━\u001b[0m\u001b[37m\u001b[0m \u001b[1m1s\u001b[0m 3ms/step - loss: 0.2703 - mean_absolute_error: 0.3556 - val_loss: 0.2928 - val_mean_absolute_error: 0.3648\n",
            "Epoch 22/100\n",
            "\u001b[1m516/516\u001b[0m \u001b[32m━━━━━━━━━━━━━━━━━━━━\u001b[0m\u001b[37m\u001b[0m \u001b[1m2s\u001b[0m 3ms/step - loss: 0.2664 - mean_absolute_error: 0.3539 - val_loss: 0.2805 - val_mean_absolute_error: 0.3572\n",
            "Epoch 23/100\n",
            "\u001b[1m516/516\u001b[0m \u001b[32m━━━━━━━━━━━━━━━━━━━━\u001b[0m\u001b[37m\u001b[0m \u001b[1m2s\u001b[0m 3ms/step - loss: 0.2814 - mean_absolute_error: 0.3614 - val_loss: 0.2801 - val_mean_absolute_error: 0.3603\n",
            "Epoch 24/100\n",
            "\u001b[1m516/516\u001b[0m \u001b[32m━━━━━━━━━━━━━━━━━━━━\u001b[0m\u001b[37m\u001b[0m \u001b[1m2s\u001b[0m 3ms/step - loss: 0.2714 - mean_absolute_error: 0.3569 - val_loss: 0.2794 - val_mean_absolute_error: 0.3643\n",
            "Epoch 25/100\n",
            "\u001b[1m516/516\u001b[0m \u001b[32m━━━━━━━━━━━━━━━━━━━━\u001b[0m\u001b[37m\u001b[0m \u001b[1m1s\u001b[0m 2ms/step - loss: 0.2623 - mean_absolute_error: 0.3509 - val_loss: 0.2756 - val_mean_absolute_error: 0.3554\n",
            "Epoch 26/100\n",
            "\u001b[1m516/516\u001b[0m \u001b[32m━━━━━━━━━━━━━━━━━━━━\u001b[0m\u001b[37m\u001b[0m \u001b[1m1s\u001b[0m 2ms/step - loss: 0.2589 - mean_absolute_error: 0.3491 - val_loss: 0.2853 - val_mean_absolute_error: 0.3721\n",
            "Epoch 27/100\n",
            "\u001b[1m516/516\u001b[0m \u001b[32m━━━━━━━━━━━━━━━━━━━━\u001b[0m\u001b[37m\u001b[0m \u001b[1m1s\u001b[0m 2ms/step - loss: 0.2627 - mean_absolute_error: 0.3526 - val_loss: 0.2704 - val_mean_absolute_error: 0.3515\n",
            "Epoch 28/100\n",
            "\u001b[1m516/516\u001b[0m \u001b[32m━━━━━━━━━━━━━━━━━━━━\u001b[0m\u001b[37m\u001b[0m \u001b[1m2s\u001b[0m 2ms/step - loss: 0.2630 - mean_absolute_error: 0.3496 - val_loss: 0.2788 - val_mean_absolute_error: 0.3633\n",
            "Epoch 29/100\n",
            "\u001b[1m516/516\u001b[0m \u001b[32m━━━━━━━━━━━━━━━━━━━━\u001b[0m\u001b[37m\u001b[0m \u001b[1m2s\u001b[0m 3ms/step - loss: 0.2662 - mean_absolute_error: 0.3501 - val_loss: 0.2742 - val_mean_absolute_error: 0.3485\n",
            "Epoch 30/100\n",
            "\u001b[1m516/516\u001b[0m \u001b[32m━━━━━━━━━━━━━━━━━━━━\u001b[0m\u001b[37m\u001b[0m \u001b[1m2s\u001b[0m 2ms/step - loss: 0.2567 - mean_absolute_error: 0.3435 - val_loss: 0.2726 - val_mean_absolute_error: 0.3553\n",
            "Epoch 31/100\n",
            "\u001b[1m516/516\u001b[0m \u001b[32m━━━━━━━━━━━━━━━━━━━━\u001b[0m\u001b[37m\u001b[0m \u001b[1m1s\u001b[0m 2ms/step - loss: 0.2584 - mean_absolute_error: 0.3469 - val_loss: 0.2818 - val_mean_absolute_error: 0.3616\n",
            "Epoch 32/100\n",
            "\u001b[1m516/516\u001b[0m \u001b[32m━━━━━━━━━━━━━━━━━━━━\u001b[0m\u001b[37m\u001b[0m \u001b[1m1s\u001b[0m 2ms/step - loss: 0.2588 - mean_absolute_error: 0.3503 - val_loss: 0.2831 - val_mean_absolute_error: 0.3724\n",
            "Epoch 33/100\n",
            "\u001b[1m516/516\u001b[0m \u001b[32m━━━━━━━━━━━━━━━━━━━━\u001b[0m\u001b[37m\u001b[0m \u001b[1m1s\u001b[0m 2ms/step - loss: 0.2556 - mean_absolute_error: 0.3456 - val_loss: 0.2728 - val_mean_absolute_error: 0.3555\n",
            "Epoch 34/100\n",
            "\u001b[1m516/516\u001b[0m \u001b[32m━━━━━━━━━━━━━━━━━━━━\u001b[0m\u001b[37m\u001b[0m \u001b[1m1s\u001b[0m 2ms/step - loss: 0.2490 - mean_absolute_error: 0.3417 - val_loss: 0.2689 - val_mean_absolute_error: 0.3474\n",
            "Epoch 35/100\n",
            "\u001b[1m516/516\u001b[0m \u001b[32m━━━━━━━━━━━━━━━━━━━━\u001b[0m\u001b[37m\u001b[0m \u001b[1m1s\u001b[0m 2ms/step - loss: 0.2436 - mean_absolute_error: 0.3401 - val_loss: 0.2796 - val_mean_absolute_error: 0.3634\n",
            "Epoch 36/100\n",
            "\u001b[1m516/516\u001b[0m \u001b[32m━━━━━━━━━━━━━━━━━━━━\u001b[0m\u001b[37m\u001b[0m \u001b[1m1s\u001b[0m 2ms/step - loss: 0.2544 - mean_absolute_error: 0.3432 - val_loss: 0.2726 - val_mean_absolute_error: 0.3489\n",
            "Epoch 37/100\n",
            "\u001b[1m516/516\u001b[0m \u001b[32m━━━━━━━━━━━━━━━━━━━━\u001b[0m\u001b[37m\u001b[0m \u001b[1m1s\u001b[0m 2ms/step - loss: 0.2396 - mean_absolute_error: 0.3359 - val_loss: 0.2679 - val_mean_absolute_error: 0.3468\n",
            "Epoch 38/100\n",
            "\u001b[1m516/516\u001b[0m \u001b[32m━━━━━━━━━━━━━━━━━━━━\u001b[0m\u001b[37m\u001b[0m \u001b[1m2s\u001b[0m 4ms/step - loss: 0.2515 - mean_absolute_error: 0.3408 - val_loss: 0.2657 - val_mean_absolute_error: 0.3423\n",
            "Epoch 39/100\n",
            "\u001b[1m516/516\u001b[0m \u001b[32m━━━━━━━━━━━━━━━━━━━━\u001b[0m\u001b[37m\u001b[0m \u001b[1m2s\u001b[0m 2ms/step - loss: 0.2380 - mean_absolute_error: 0.3330 - val_loss: 0.2797 - val_mean_absolute_error: 0.3698\n",
            "Epoch 40/100\n",
            "\u001b[1m516/516\u001b[0m \u001b[32m━━━━━━━━━━━━━━━━━━━━\u001b[0m\u001b[37m\u001b[0m \u001b[1m1s\u001b[0m 2ms/step - loss: 0.2382 - mean_absolute_error: 0.3325 - val_loss: 0.2743 - val_mean_absolute_error: 0.3495\n",
            "Epoch 41/100\n",
            "\u001b[1m516/516\u001b[0m \u001b[32m━━━━━━━━━━━━━━━━━━━━\u001b[0m\u001b[37m\u001b[0m \u001b[1m1s\u001b[0m 2ms/step - loss: 0.2359 - mean_absolute_error: 0.3310 - val_loss: 0.2742 - val_mean_absolute_error: 0.3561\n",
            "Epoch 42/100\n",
            "\u001b[1m516/516\u001b[0m \u001b[32m━━━━━━━━━━━━━━━━━━━━\u001b[0m\u001b[37m\u001b[0m \u001b[1m1s\u001b[0m 2ms/step - loss: 0.2499 - mean_absolute_error: 0.3394 - val_loss: 0.2653 - val_mean_absolute_error: 0.3483\n",
            "Epoch 43/100\n",
            "\u001b[1m516/516\u001b[0m \u001b[32m━━━━━━━━━━━━━━━━━━━━\u001b[0m\u001b[37m\u001b[0m \u001b[1m1s\u001b[0m 2ms/step - loss: 0.2452 - mean_absolute_error: 0.3336 - val_loss: 0.2718 - val_mean_absolute_error: 0.3420\n",
            "Epoch 44/100\n",
            "\u001b[1m516/516\u001b[0m \u001b[32m━━━━━━━━━━━━━━━━━━━━\u001b[0m\u001b[37m\u001b[0m \u001b[1m3s\u001b[0m 2ms/step - loss: 0.2414 - mean_absolute_error: 0.3303 - val_loss: 0.2686 - val_mean_absolute_error: 0.3434\n",
            "Epoch 45/100\n",
            "\u001b[1m516/516\u001b[0m \u001b[32m━━━━━━━━━━━━━━━━━━━━\u001b[0m\u001b[37m\u001b[0m \u001b[1m3s\u001b[0m 4ms/step - loss: 0.2534 - mean_absolute_error: 0.3390 - val_loss: 0.2703 - val_mean_absolute_error: 0.3480\n",
            "Epoch 46/100\n",
            "\u001b[1m516/516\u001b[0m \u001b[32m━━━━━━━━━━━━━━━━━━━━\u001b[0m\u001b[37m\u001b[0m \u001b[1m1s\u001b[0m 2ms/step - loss: 0.2359 - mean_absolute_error: 0.3306 - val_loss: 0.2621 - val_mean_absolute_error: 0.3428\n",
            "Epoch 47/100\n",
            "\u001b[1m516/516\u001b[0m \u001b[32m━━━━━━━━━━━━━━━━━━━━\u001b[0m\u001b[37m\u001b[0m \u001b[1m3s\u001b[0m 3ms/step - loss: 0.2419 - mean_absolute_error: 0.3314 - val_loss: 0.2770 - val_mean_absolute_error: 0.3557\n",
            "Epoch 48/100\n",
            "\u001b[1m516/516\u001b[0m \u001b[32m━━━━━━━━━━━━━━━━━━━━\u001b[0m\u001b[37m\u001b[0m \u001b[1m2s\u001b[0m 3ms/step - loss: 0.2436 - mean_absolute_error: 0.3340 - val_loss: 0.2692 - val_mean_absolute_error: 0.3414\n",
            "Epoch 49/100\n",
            "\u001b[1m516/516\u001b[0m \u001b[32m━━━━━━━━━━━━━━━━━━━━\u001b[0m\u001b[37m\u001b[0m \u001b[1m1s\u001b[0m 2ms/step - loss: 0.2416 - mean_absolute_error: 0.3330 - val_loss: 0.2653 - val_mean_absolute_error: 0.3412\n",
            "Epoch 50/100\n",
            "\u001b[1m516/516\u001b[0m \u001b[32m━━━━━━━━━━━━━━━━━━━━\u001b[0m\u001b[37m\u001b[0m \u001b[1m3s\u001b[0m 3ms/step - loss: 0.2434 - mean_absolute_error: 0.3349 - val_loss: 0.2685 - val_mean_absolute_error: 0.3443\n",
            "Epoch 51/100\n",
            "\u001b[1m516/516\u001b[0m \u001b[32m━━━━━━━━━━━━━━━━━━━━\u001b[0m\u001b[37m\u001b[0m \u001b[1m2s\u001b[0m 3ms/step - loss: 0.2403 - mean_absolute_error: 0.3316 - val_loss: 0.2704 - val_mean_absolute_error: 0.3399\n",
            "Epoch 52/100\n",
            "\u001b[1m516/516\u001b[0m \u001b[32m━━━━━━━━━━━━━━━━━━━━\u001b[0m\u001b[37m\u001b[0m \u001b[1m1s\u001b[0m 2ms/step - loss: 0.2431 - mean_absolute_error: 0.3331 - val_loss: 0.2613 - val_mean_absolute_error: 0.3422\n",
            "Epoch 53/100\n",
            "\u001b[1m516/516\u001b[0m \u001b[32m━━━━━━━━━━━━━━━━━━━━\u001b[0m\u001b[37m\u001b[0m \u001b[1m1s\u001b[0m 2ms/step - loss: 0.2283 - mean_absolute_error: 0.3244 - val_loss: 0.2676 - val_mean_absolute_error: 0.3460\n",
            "Epoch 54/100\n",
            "\u001b[1m516/516\u001b[0m \u001b[32m━━━━━━━━━━━━━━━━━━━━\u001b[0m\u001b[37m\u001b[0m \u001b[1m1s\u001b[0m 2ms/step - loss: 0.2378 - mean_absolute_error: 0.3297 - val_loss: 0.2619 - val_mean_absolute_error: 0.3393\n",
            "Epoch 55/100\n",
            "\u001b[1m516/516\u001b[0m \u001b[32m━━━━━━━━━━━━━━━━━━━━\u001b[0m\u001b[37m\u001b[0m \u001b[1m1s\u001b[0m 2ms/step - loss: 0.2257 - mean_absolute_error: 0.3235 - val_loss: 0.2691 - val_mean_absolute_error: 0.3411\n",
            "Epoch 56/100\n",
            "\u001b[1m516/516\u001b[0m \u001b[32m━━━━━━━━━━━━━━━━━━━━\u001b[0m\u001b[37m\u001b[0m \u001b[1m1s\u001b[0m 2ms/step - loss: 0.2367 - mean_absolute_error: 0.3284 - val_loss: 0.2691 - val_mean_absolute_error: 0.3562\n",
            "Epoch 57/100\n",
            "\u001b[1m516/516\u001b[0m \u001b[32m━━━━━━━━━━━━━━━━━━━━\u001b[0m\u001b[37m\u001b[0m \u001b[1m1s\u001b[0m 2ms/step - loss: 0.2379 - mean_absolute_error: 0.3291 - val_loss: 0.2638 - val_mean_absolute_error: 0.3406\n",
            "Epoch 58/100\n",
            "\u001b[1m516/516\u001b[0m \u001b[32m━━━━━━━━━━━━━━━━━━━━\u001b[0m\u001b[37m\u001b[0m \u001b[1m1s\u001b[0m 2ms/step - loss: 0.2374 - mean_absolute_error: 0.3273 - val_loss: 0.2647 - val_mean_absolute_error: 0.3394\n",
            "Epoch 59/100\n",
            "\u001b[1m516/516\u001b[0m \u001b[32m━━━━━━━━━━━━━━━━━━━━\u001b[0m\u001b[37m\u001b[0m \u001b[1m2s\u001b[0m 4ms/step - loss: 0.2242 - mean_absolute_error: 0.3209 - val_loss: 0.2594 - val_mean_absolute_error: 0.3386\n",
            "Epoch 60/100\n",
            "\u001b[1m516/516\u001b[0m \u001b[32m━━━━━━━━━━━━━━━━━━━━\u001b[0m\u001b[37m\u001b[0m \u001b[1m2s\u001b[0m 2ms/step - loss: 0.2256 - mean_absolute_error: 0.3209 - val_loss: 0.2690 - val_mean_absolute_error: 0.3425\n",
            "Epoch 61/100\n",
            "\u001b[1m516/516\u001b[0m \u001b[32m━━━━━━━━━━━━━━━━━━━━\u001b[0m\u001b[37m\u001b[0m \u001b[1m3s\u001b[0m 2ms/step - loss: 0.2262 - mean_absolute_error: 0.3256 - val_loss: 0.2828 - val_mean_absolute_error: 0.3704\n",
            "Epoch 62/100\n",
            "\u001b[1m516/516\u001b[0m \u001b[32m━━━━━━━━━━━━━━━━━━━━\u001b[0m\u001b[37m\u001b[0m \u001b[1m1s\u001b[0m 2ms/step - loss: 0.2417 - mean_absolute_error: 0.3309 - val_loss: 0.2641 - val_mean_absolute_error: 0.3379\n",
            "Epoch 63/100\n",
            "\u001b[1m516/516\u001b[0m \u001b[32m━━━━━━━━━━━━━━━━━━━━\u001b[0m\u001b[37m\u001b[0m \u001b[1m1s\u001b[0m 2ms/step - loss: 0.2266 - mean_absolute_error: 0.3231 - val_loss: 0.2777 - val_mean_absolute_error: 0.3608\n",
            "Epoch 64/100\n",
            "\u001b[1m516/516\u001b[0m \u001b[32m━━━━━━━━━━━━━━━━━━━━\u001b[0m\u001b[37m\u001b[0m \u001b[1m1s\u001b[0m 2ms/step - loss: 0.2393 - mean_absolute_error: 0.3258 - val_loss: 0.2602 - val_mean_absolute_error: 0.3386\n",
            "Epoch 65/100\n",
            "\u001b[1m516/516\u001b[0m \u001b[32m━━━━━━━━━━━━━━━━━━━━\u001b[0m\u001b[37m\u001b[0m \u001b[1m1s\u001b[0m 2ms/step - loss: 0.2214 - mean_absolute_error: 0.3186 - val_loss: 0.2618 - val_mean_absolute_error: 0.3434\n",
            "Epoch 66/100\n",
            "\u001b[1m516/516\u001b[0m \u001b[32m━━━━━━━━━━━━━━━━━━━━\u001b[0m\u001b[37m\u001b[0m \u001b[1m1s\u001b[0m 2ms/step - loss: 0.2192 - mean_absolute_error: 0.3162 - val_loss: 0.2654 - val_mean_absolute_error: 0.3501\n",
            "Epoch 67/100\n",
            "\u001b[1m516/516\u001b[0m \u001b[32m━━━━━━━━━━━━━━━━━━━━\u001b[0m\u001b[37m\u001b[0m \u001b[1m2s\u001b[0m 4ms/step - loss: 0.2283 - mean_absolute_error: 0.3245 - val_loss: 0.2688 - val_mean_absolute_error: 0.3441\n",
            "Epoch 68/100\n",
            "\u001b[1m516/516\u001b[0m \u001b[32m━━━━━━━━━━━━━━━━━━━━\u001b[0m\u001b[37m\u001b[0m \u001b[1m2s\u001b[0m 2ms/step - loss: 0.2300 - mean_absolute_error: 0.3219 - val_loss: 0.2621 - val_mean_absolute_error: 0.3517\n",
            "Epoch 69/100\n",
            "\u001b[1m516/516\u001b[0m \u001b[32m━━━━━━━━━━━━━━━━━━━━\u001b[0m\u001b[37m\u001b[0m \u001b[1m1s\u001b[0m 2ms/step - loss: 0.2254 - mean_absolute_error: 0.3202 - val_loss: 0.2636 - val_mean_absolute_error: 0.3530\n",
            "Epoch 70/100\n",
            "\u001b[1m516/516\u001b[0m \u001b[32m━━━━━━━━━━━━━━━━━━━━\u001b[0m\u001b[37m\u001b[0m \u001b[1m1s\u001b[0m 2ms/step - loss: 0.2354 - mean_absolute_error: 0.3276 - val_loss: 0.2651 - val_mean_absolute_error: 0.3446\n",
            "Epoch 71/100\n",
            "\u001b[1m516/516\u001b[0m \u001b[32m━━━━━━━━━━━━━━━━━━━━\u001b[0m\u001b[37m\u001b[0m \u001b[1m1s\u001b[0m 2ms/step - loss: 0.2260 - mean_absolute_error: 0.3216 - val_loss: 0.2864 - val_mean_absolute_error: 0.3508\n",
            "Epoch 72/100\n",
            "\u001b[1m516/516\u001b[0m \u001b[32m━━━━━━━━━━━━━━━━━━━━\u001b[0m\u001b[37m\u001b[0m \u001b[1m2s\u001b[0m 2ms/step - loss: 0.2222 - mean_absolute_error: 0.3215 - val_loss: 0.2582 - val_mean_absolute_error: 0.3425\n",
            "Epoch 73/100\n",
            "\u001b[1m516/516\u001b[0m \u001b[32m━━━━━━━━━━━━━━━━━━━━\u001b[0m\u001b[37m\u001b[0m \u001b[1m1s\u001b[0m 2ms/step - loss: 0.2230 - mean_absolute_error: 0.3198 - val_loss: 0.2652 - val_mean_absolute_error: 0.3559\n",
            "Epoch 74/100\n",
            "\u001b[1m516/516\u001b[0m \u001b[32m━━━━━━━━━━━━━━━━━━━━\u001b[0m\u001b[37m\u001b[0m \u001b[1m2s\u001b[0m 4ms/step - loss: 0.2239 - mean_absolute_error: 0.3198 - val_loss: 0.2634 - val_mean_absolute_error: 0.3515\n",
            "Epoch 75/100\n",
            "\u001b[1m516/516\u001b[0m \u001b[32m━━━━━━━━━━━━━━━━━━━━\u001b[0m\u001b[37m\u001b[0m \u001b[1m2s\u001b[0m 3ms/step - loss: 0.2183 - mean_absolute_error: 0.3176 - val_loss: 0.2584 - val_mean_absolute_error: 0.3421\n",
            "Epoch 76/100\n",
            "\u001b[1m516/516\u001b[0m \u001b[32m━━━━━━━━━━━━━━━━━━━━\u001b[0m\u001b[37m\u001b[0m \u001b[1m1s\u001b[0m 3ms/step - loss: 0.2206 - mean_absolute_error: 0.3192 - val_loss: 0.2637 - val_mean_absolute_error: 0.3376\n",
            "Epoch 77/100\n",
            "\u001b[1m516/516\u001b[0m \u001b[32m━━━━━━━━━━━━━━━━━━━━\u001b[0m\u001b[37m\u001b[0m \u001b[1m3s\u001b[0m 3ms/step - loss: 0.2252 - mean_absolute_error: 0.3204 - val_loss: 0.2619 - val_mean_absolute_error: 0.3421\n",
            "Epoch 78/100\n",
            "\u001b[1m516/516\u001b[0m \u001b[32m━━━━━━━━━━━━━━━━━━━━\u001b[0m\u001b[37m\u001b[0m \u001b[1m2s\u001b[0m 3ms/step - loss: 0.2180 - mean_absolute_error: 0.3180 - val_loss: 0.2601 - val_mean_absolute_error: 0.3406\n",
            "Epoch 79/100\n",
            "\u001b[1m516/516\u001b[0m \u001b[32m━━━━━━━━━━━━━━━━━━━━\u001b[0m\u001b[37m\u001b[0m \u001b[1m3s\u001b[0m 3ms/step - loss: 0.2205 - mean_absolute_error: 0.3194 - val_loss: 0.2638 - val_mean_absolute_error: 0.3368\n",
            "Epoch 80/100\n",
            "\u001b[1m516/516\u001b[0m \u001b[32m━━━━━━━━━━━━━━━━━━━━\u001b[0m\u001b[37m\u001b[0m \u001b[1m3s\u001b[0m 4ms/step - loss: 0.2212 - mean_absolute_error: 0.3183 - val_loss: 0.2641 - val_mean_absolute_error: 0.3360\n",
            "Epoch 81/100\n",
            "\u001b[1m516/516\u001b[0m \u001b[32m━━━━━━━━━━━━━━━━━━━━\u001b[0m\u001b[37m\u001b[0m \u001b[1m2s\u001b[0m 3ms/step - loss: 0.2244 - mean_absolute_error: 0.3202 - val_loss: 0.2654 - val_mean_absolute_error: 0.3490\n",
            "Epoch 82/100\n",
            "\u001b[1m516/516\u001b[0m \u001b[32m━━━━━━━━━━━━━━━━━━━━\u001b[0m\u001b[37m\u001b[0m \u001b[1m1s\u001b[0m 3ms/step - loss: 0.2211 - mean_absolute_error: 0.3194 - val_loss: 0.2650 - val_mean_absolute_error: 0.3476\n",
            "Epoch 83/100\n",
            "\u001b[1m516/516\u001b[0m \u001b[32m━━━━━━━━━━━━━━━━━━━━\u001b[0m\u001b[37m\u001b[0m \u001b[1m3s\u001b[0m 2ms/step - loss: 0.2214 - mean_absolute_error: 0.3186 - val_loss: 0.2612 - val_mean_absolute_error: 0.3494\n",
            "Epoch 84/100\n",
            "\u001b[1m516/516\u001b[0m \u001b[32m━━━━━━━━━━━━━━━━━━━━\u001b[0m\u001b[37m\u001b[0m \u001b[1m1s\u001b[0m 3ms/step - loss: 0.2123 - mean_absolute_error: 0.3127 - val_loss: 0.2605 - val_mean_absolute_error: 0.3419\n",
            "Epoch 85/100\n",
            "\u001b[1m516/516\u001b[0m \u001b[32m━━━━━━━━━━━━━━━━━━━━\u001b[0m\u001b[37m\u001b[0m \u001b[1m1s\u001b[0m 2ms/step - loss: 0.2157 - mean_absolute_error: 0.3152 - val_loss: 0.2605 - val_mean_absolute_error: 0.3414\n",
            "Epoch 86/100\n",
            "\u001b[1m516/516\u001b[0m \u001b[32m━━━━━━━━━━━━━━━━━━━━\u001b[0m\u001b[37m\u001b[0m \u001b[1m1s\u001b[0m 2ms/step - loss: 0.2139 - mean_absolute_error: 0.3184 - val_loss: 0.2559 - val_mean_absolute_error: 0.3389\n",
            "Epoch 87/100\n",
            "\u001b[1m516/516\u001b[0m \u001b[32m━━━━━━━━━━━━━━━━━━━━\u001b[0m\u001b[37m\u001b[0m \u001b[1m1s\u001b[0m 2ms/step - loss: 0.2163 - mean_absolute_error: 0.3167 - val_loss: 0.2561 - val_mean_absolute_error: 0.3335\n",
            "Epoch 88/100\n",
            "\u001b[1m516/516\u001b[0m \u001b[32m━━━━━━━━━━━━━━━━━━━━\u001b[0m\u001b[37m\u001b[0m \u001b[1m2s\u001b[0m 3ms/step - loss: 0.2121 - mean_absolute_error: 0.3120 - val_loss: 0.2605 - val_mean_absolute_error: 0.3480\n",
            "Epoch 89/100\n",
            "\u001b[1m516/516\u001b[0m \u001b[32m━━━━━━━━━━━━━━━━━━━━\u001b[0m\u001b[37m\u001b[0m \u001b[1m2s\u001b[0m 2ms/step - loss: 0.2167 - mean_absolute_error: 0.3177 - val_loss: 0.2641 - val_mean_absolute_error: 0.3454\n",
            "Epoch 90/100\n",
            "\u001b[1m516/516\u001b[0m \u001b[32m━━━━━━━━━━━━━━━━━━━━\u001b[0m\u001b[37m\u001b[0m \u001b[1m1s\u001b[0m 2ms/step - loss: 0.2133 - mean_absolute_error: 0.3145 - val_loss: 0.2598 - val_mean_absolute_error: 0.3375\n",
            "Epoch 91/100\n",
            "\u001b[1m516/516\u001b[0m \u001b[32m━━━━━━━━━━━━━━━━━━━━\u001b[0m\u001b[37m\u001b[0m \u001b[1m1s\u001b[0m 2ms/step - loss: 0.2050 - mean_absolute_error: 0.3109 - val_loss: 0.2673 - val_mean_absolute_error: 0.3439\n",
            "Epoch 92/100\n",
            "\u001b[1m516/516\u001b[0m \u001b[32m━━━━━━━━━━━━━━━━━━━━\u001b[0m\u001b[37m\u001b[0m \u001b[1m1s\u001b[0m 2ms/step - loss: 0.2172 - mean_absolute_error: 0.3151 - val_loss: 0.2594 - val_mean_absolute_error: 0.3381\n",
            "Epoch 93/100\n",
            "\u001b[1m516/516\u001b[0m \u001b[32m━━━━━━━━━━━━━━━━━━━━\u001b[0m\u001b[37m\u001b[0m \u001b[1m1s\u001b[0m 2ms/step - loss: 0.2166 - mean_absolute_error: 0.3149 - val_loss: 0.2634 - val_mean_absolute_error: 0.3463\n",
            "Epoch 94/100\n",
            "\u001b[1m516/516\u001b[0m \u001b[32m━━━━━━━━━━━━━━━━━━━━\u001b[0m\u001b[37m\u001b[0m \u001b[1m1s\u001b[0m 3ms/step - loss: 0.2176 - mean_absolute_error: 0.3153 - val_loss: 0.2537 - val_mean_absolute_error: 0.3335\n",
            "Epoch 95/100\n",
            "\u001b[1m516/516\u001b[0m \u001b[32m━━━━━━━━━━━━━━━━━━━━\u001b[0m\u001b[37m\u001b[0m \u001b[1m1s\u001b[0m 2ms/step - loss: 0.2163 - mean_absolute_error: 0.3145 - val_loss: 0.2651 - val_mean_absolute_error: 0.3523\n",
            "Epoch 96/100\n",
            "\u001b[1m516/516\u001b[0m \u001b[32m━━━━━━━━━━━━━━━━━━━━\u001b[0m\u001b[37m\u001b[0m \u001b[1m1s\u001b[0m 2ms/step - loss: 0.2104 - mean_absolute_error: 0.3132 - val_loss: 0.2587 - val_mean_absolute_error: 0.3420\n",
            "Epoch 97/100\n",
            "\u001b[1m516/516\u001b[0m \u001b[32m━━━━━━━━━━━━━━━━━━━━\u001b[0m\u001b[37m\u001b[0m \u001b[1m2s\u001b[0m 3ms/step - loss: 0.2010 - mean_absolute_error: 0.3072 - val_loss: 0.2585 - val_mean_absolute_error: 0.3416\n",
            "Epoch 98/100\n",
            "\u001b[1m516/516\u001b[0m \u001b[32m━━━━━━━━━━━━━━━━━━━━\u001b[0m\u001b[37m\u001b[0m \u001b[1m2s\u001b[0m 2ms/step - loss: 0.2036 - mean_absolute_error: 0.3093 - val_loss: 0.2680 - val_mean_absolute_error: 0.3555\n",
            "Epoch 99/100\n",
            "\u001b[1m516/516\u001b[0m \u001b[32m━━━━━━━━━━━━━━━━━━━━\u001b[0m\u001b[37m\u001b[0m \u001b[1m1s\u001b[0m 2ms/step - loss: 0.2054 - mean_absolute_error: 0.3111 - val_loss: 0.2604 - val_mean_absolute_error: 0.3446\n",
            "Epoch 100/100\n",
            "\u001b[1m516/516\u001b[0m \u001b[32m━━━━━━━━━━━━━━━━━━━━\u001b[0m\u001b[37m\u001b[0m \u001b[1m1s\u001b[0m 2ms/step - loss: 0.2097 - mean_absolute_error: 0.3135 - val_loss: 0.2591 - val_mean_absolute_error: 0.3411\n"
          ]
        }
      ]
    },
    {
      "cell_type": "markdown",
      "metadata": {
        "id": "e71f4b4c"
      },
      "source": [
        "## Get Model Weights\n",
        "\n",
        "### Subtask:\n",
        "Retrieve the weights and biases of the trained ANN model programmatically."
      ]
    },
    {
      "cell_type": "code",
      "metadata": {
        "colab": {
          "base_uri": "https://localhost:8080/"
        },
        "id": "125eb6a3",
        "outputId": "e9f4d0fc-150f-4d25-e803-03f922631d86"
      },
      "source": [
        "# Iterate through the layers of the model\n",
        "for i, layer in enumerate(model.layers):\n",
        "    # Get the weights and biases of the layer\n",
        "    weights, biases = layer.get_weights()\n",
        "\n",
        "    print(f\"Layer {i} - {layer.name}:\")\n",
        "    print(\"  Weights shape:\", weights.shape)\n",
        "    print(\"  Biases shape:\", biases.shape)\n",
        "    # You can also print the weights and biases themselves, but they can be large\n",
        "    print(\"  Weights:\", weights)\n",
        "    print(\"  Biases:\", biases)"
      ],
      "execution_count": 11,
      "outputs": [
        {
          "output_type": "stream",
          "name": "stdout",
          "text": [
            "Layer 0 - dense:\n",
            "  Weights shape: (8, 64)\n",
            "  Biases shape: (64,)\n",
            "  Weights: [[ 1.72963560e-01  1.98898822e-01  1.12302490e-01 -6.73291013e-02\n",
            "   1.66385978e-01 -6.22125089e-01 -9.17131901e-02 -2.45677377e-03\n",
            "   1.52637251e-02  1.95331305e-01 -6.72355713e-03  6.21471368e-02\n",
            "   1.98117614e-01  1.45142242e-01 -1.22599207e-01  3.59992795e-02\n",
            "  -3.86632197e-02  2.36661863e-02  2.05885410e-01  3.53431642e-01\n",
            "  -4.44177359e-01 -1.89607397e-01 -2.66479105e-01 -2.76137352e-01\n",
            "  -4.10214551e-02  1.43460393e-01 -4.88022417e-02 -1.14106439e-01\n",
            "   2.08118707e-01  1.22080922e-01  1.90767571e-02  2.31198408e-02\n",
            "   1.39532655e-01  4.14883681e-02 -1.53961807e-01 -2.45753713e-02\n",
            "  -1.83005526e-03  5.54552317e-01 -1.05399027e-01 -2.04315633e-02\n",
            "   2.55723596e-01 -2.36171931e-01  4.21299823e-02 -2.58988559e-01\n",
            "  -2.95294728e-02 -2.23733336e-01  1.27474353e-01 -4.04535532e-02\n",
            "  -2.01363459e-01  2.55046487e-02  1.41156793e-01  4.19158489e-03\n",
            "  -1.01296395e-01  5.35560548e-01 -5.23526557e-02 -7.28324056e-02\n",
            "  -7.96225294e-02  2.14953586e-01  1.58261046e-01 -1.45540468e-03\n",
            "  -9.28269103e-02 -5.76853529e-02 -8.57057869e-02  4.52090710e-01]\n",
            " [-1.82735607e-01 -1.79506075e-02  3.38771105e-01 -6.21155143e-01\n",
            "  -9.89718921e-03  7.01230466e-02  5.33569008e-02  2.23603677e-02\n",
            "  -1.56169444e-01  1.12769149e-01  3.02672684e-02 -2.19072346e-02\n",
            "   2.18115821e-02  6.98927194e-02 -1.02771387e-01 -7.39993304e-02\n",
            "  -3.26788314e-02  1.43954232e-02 -7.45278075e-02  2.55593926e-01\n",
            "   5.08666411e-02 -4.23771702e-02 -1.91021055e-01  1.28893346e-01\n",
            "  -9.11006778e-02  8.69771168e-02  1.61096007e-01  1.71427563e-01\n",
            "   9.57760289e-02 -9.23283324e-02 -4.14028391e-02 -1.76706105e-01\n",
            "   2.04720899e-01  6.39894083e-02 -1.98455885e-01 -8.11321735e-02\n",
            "  -2.71706805e-02 -1.74275666e-01  1.36452243e-01  1.40827939e-01\n",
            "   3.51821870e-01 -2.73242921e-01  1.03680842e-01 -2.18556926e-01\n",
            "   1.27996318e-02  3.86558414e-01  3.51224579e-02 -3.74850333e-02\n",
            "   7.40019456e-02 -4.06155623e-02  7.19275177e-02  3.15401584e-01\n",
            "  -6.26456067e-02 -1.62404746e-01  5.68204038e-02 -3.63340490e-02\n",
            "   1.92441531e-02  1.41631603e-01  1.63799480e-01  9.32257250e-03\n",
            "   8.21969286e-02 -2.25657858e-02 -2.83027589e-01  2.45170370e-02]\n",
            " [ 3.02295864e-01 -2.48926744e-01  1.60606608e-01 -2.35766113e-01\n",
            "  -2.48264357e-01  1.71642169e-01  2.49394581e-01  9.36157405e-02\n",
            "  -9.92094651e-02 -2.15731353e-01  8.00946131e-02  5.51638454e-02\n",
            "  -4.13526386e-01  1.71224818e-01  4.04434651e-01 -1.46106035e-02\n",
            "   1.57764763e-01 -4.70500365e-02  6.14028350e-02 -5.69351353e-02\n",
            "   3.66158664e-01  2.81899720e-01 -3.87346298e-01 -1.88972026e-01\n",
            "  -3.54028970e-01  1.17969297e-01  3.57903123e-01 -1.74730912e-01\n",
            "   4.33119386e-02 -1.84349895e-01 -8.31944048e-02  2.98962712e-01\n",
            "   2.95054078e-01  1.37640536e-01  1.03553630e-01  3.38540263e-02\n",
            "   4.59214300e-02 -5.27452640e-02 -1.14223510e-01  1.18556432e-01\n",
            "   2.22158134e-02 -1.38370946e-01 -4.17674214e-01  3.95479918e-01\n",
            "   4.71311482e-03 -5.29662669e-02 -8.47153813e-02  2.94992998e-02\n",
            "   3.06475043e-01  2.33409986e-01 -2.62276739e-01 -9.37050767e-03\n",
            "   1.27391800e-01 -1.77895389e-02  2.49541447e-01  3.72332707e-03\n",
            "   1.12303197e-01  1.03796631e-01 -6.43344969e-02  1.14497058e-02\n",
            "  -4.00900275e-01  7.48191848e-02  3.81616443e-01 -5.30500472e-01]\n",
            " [-2.33189672e-01  2.61385232e-01 -1.93192855e-01 -1.18832868e-02\n",
            "  -1.80089980e-01  5.15873805e-02 -2.89708793e-01 -2.33490005e-01\n",
            "   1.36801451e-01  2.41453707e-01 -1.74643159e-01  2.06874032e-02\n",
            "  -2.95953527e-02 -1.01822324e-01 -4.10435319e-01  4.39537168e-02\n",
            "  -1.56768903e-01  5.66079319e-02 -2.18589947e-01  1.05262093e-01\n",
            "   2.03917295e-01 -3.90781075e-01  3.97244662e-01 -7.28462696e-01\n",
            "   2.19634205e-01 -4.50916998e-02 -6.77980304e-01 -3.62259865e-01\n",
            "   2.62565345e-01 -3.65913749e-01  7.95018971e-02 -2.17056125e-01\n",
            "  -3.38052213e-01 -2.44783655e-01 -8.46059024e-01 -1.95809439e-01\n",
            "  -8.43824968e-02  4.41425145e-02  9.78874937e-02 -3.29939127e-02\n",
            "  -8.93332288e-02 -5.63866556e-01  2.29095891e-01 -2.68280894e-01\n",
            "   3.08028795e-02  1.60970926e-01  2.06843302e-01  9.69216749e-02\n",
            "  -2.66112655e-01 -1.53054997e-01 -6.16573036e-01  7.54971206e-02\n",
            "  -1.84054285e-01 -1.46683361e-02 -2.21283391e-01 -3.19160074e-02\n",
            "   2.14573964e-02 -4.97548431e-02  8.36249515e-02 -7.77775794e-03\n",
            "  -7.12495148e-02 -1.52687192e-01 -2.84310818e-01 -1.71380579e-01]\n",
            " [ 1.56976692e-02  2.61106826e-02 -4.67266180e-02 -1.34328939e-02\n",
            "   2.45940797e-02  2.35837951e-01 -1.64069638e-01 -7.65424669e-01\n",
            "   5.45550883e-02  1.54045090e-01 -1.77119091e-01 -2.29873106e-01\n",
            "  -4.14573520e-01  1.60225108e-02  1.36823487e-02 -4.39502113e-02\n",
            "  -2.76216827e-02 -4.27938253e-02 -8.38549808e-02  1.29664555e-01\n",
            "  -9.26593691e-02 -5.16735651e-02  4.04577367e-02  4.73701656e-02\n",
            "   4.40331772e-02  6.37612566e-02  2.25460846e-02 -3.97166342e-01\n",
            "   4.02178243e-02  7.37876631e-03 -3.35114039e-02 -1.08619802e-01\n",
            "   4.94926088e-02 -5.54184578e-02  6.38375357e-02  2.23844096e-01\n",
            "  -1.84981264e-02  1.08283646e-01  3.32230926e-02 -9.28051025e-03\n",
            "   2.45211378e-01  1.15916379e-01 -8.46100003e-02 -2.92772770e-01\n",
            "   1.91850327e-02 -6.76328763e-02  3.88529040e-02 -4.59881201e-02\n",
            "  -5.23767658e-02  3.30405124e-02  3.86041217e-02  1.15016162e-01\n",
            "  -3.17628741e-01 -2.01942652e-01  1.05603881e-01 -3.59537899e-02\n",
            "   6.98853731e-02 -3.74765024e-02  1.08656446e-02  2.00804118e-02\n",
            "   2.46261925e-01 -1.74373686e-02  1.91601999e-02 -4.56539802e-02]\n",
            " [-1.70024335e-01 -6.88004191e-04 -2.54424158e-02  3.60881016e-02\n",
            "  -7.89854586e-01  7.73890018e-02 -1.97069037e+00 -6.20971657e-02\n",
            "  -2.30499816e+00 -1.17036104e+00  2.39113532e-03 -7.34293163e-02\n",
            "  -8.87623653e-02  2.59653060e-03 -4.10199948e-02 -8.26846957e-01\n",
            "  -1.65918246e-02 -1.58775318e+00 -1.18595414e-01  9.10058543e-02\n",
            "  -1.16385520e-02 -3.28250259e-01 -6.21806383e-01 -1.23933196e-01\n",
            "  -2.23132920e+00 -1.59774530e+00 -4.68620397e-02 -6.60623491e-01\n",
            "  -4.57978882e-02 -3.22168052e-01 -2.56611854e-02 -1.49030590e+00\n",
            "  -2.47450292e-01 -2.38292766e+00 -6.87580109e-02  7.33771324e-02\n",
            "  -9.17285830e-02  4.21037860e-02 -1.90079904e+00  7.18962103e-02\n",
            "   8.85644257e-02  5.79713807e-02  4.61248565e-04 -3.30813468e-01\n",
            "  -1.05118327e-01 -5.35034691e-04 -1.74277718e-03  5.45865074e-02\n",
            "  -1.94698170e-01 -2.64570904e+00  2.41256487e-02 -2.47041192e-02\n",
            "  -1.28923202e+00  2.68155560e-02  1.81728695e-02  5.15712146e-03\n",
            "  -1.95830781e-02 -2.13290572e+00 -2.48409867e+00 -5.20202611e-03\n",
            "   5.02636731e-02 -4.05645967e-01 -8.65156427e-02  2.51667593e-02]\n",
            " [ 5.72115853e-02  2.64688373e-01 -5.35923429e-02  1.23217903e-01\n",
            "   5.77810168e-01 -2.70113826e-01  3.60043824e-01 -9.54573527e-02\n",
            "   2.83957303e-01 -3.70475918e-01 -6.99399173e-01  1.01139784e-01\n",
            "   2.34643221e-01 -6.83473110e-01 -1.32683024e-01 -5.80235839e-01\n",
            "   4.93635982e-01 -5.49090326e-01  1.05917200e-01  2.27813646e-01\n",
            "   1.34837478e-01 -9.33513522e-01  1.50663957e-01  3.96496989e-02\n",
            "  -1.02244489e-01 -4.86469805e-01 -3.10936701e-02  4.51840788e-01\n",
            "  -1.83826134e-01  2.87756741e-01 -2.69787848e-01 -2.56016284e-01\n",
            "   5.94739437e-01 -2.31641859e-01 -3.10922980e-01  2.88177609e-01\n",
            "  -8.07963550e-01 -2.16396272e-01 -4.57212508e-01  7.64112532e-01\n",
            "  -1.36109084e-01  1.16174422e-01 -6.42781436e-01  3.34648520e-01\n",
            "  -7.23695636e-01  8.97412077e-02 -8.70811820e-01 -5.26380539e-01\n",
            "  -1.04821250e-01  3.37147936e-02 -1.50271550e-01 -5.00060618e-01\n",
            "  -1.94423720e-01 -2.01769978e-01 -4.59390491e-01  3.63314271e-01\n",
            "   4.20696754e-03 -2.04209954e-01 -2.60441095e-01 -6.47629201e-01\n",
            "  -5.11418223e-01 -3.34097296e-01 -1.56091496e-01  1.19799010e-01]\n",
            " [ 2.12891717e-02  3.18067789e-01  1.36146069e-01  4.63064402e-01\n",
            "  -1.44698936e-02  6.71280324e-02  2.57050902e-01 -1.44653395e-01\n",
            "   2.56487310e-01 -3.22524667e-01 -4.80166972e-01  3.50467920e-01\n",
            "   2.85652094e-02 -5.04466474e-01 -4.65640686e-02 -4.37527895e-01\n",
            "  -3.98410767e-01 -4.77243990e-01  5.19799888e-01 -2.65284240e-01\n",
            "   4.52684984e-02  2.04211354e-01  3.56795155e-02  4.40292329e-01\n",
            "  -4.07165326e-02 -3.63108724e-01  8.64768252e-02  4.44135576e-01\n",
            "  -8.90090913e-02  1.05429739e-01  5.16736172e-02 -2.27021918e-01\n",
            "   6.77333891e-01 -2.37328604e-01  7.58032203e-02  2.60870367e-01\n",
            "  -4.88242745e-01 -2.30325475e-01 -3.00612032e-01  4.16769862e-01\n",
            "   1.73637778e-01  1.03139780e-01 -4.74779129e-01  1.74372554e-01\n",
            "  -5.17195344e-01  5.00991583e-01  1.30753234e-01  5.67443371e-01\n",
            "  -1.05366178e-01  9.10196267e-03 -3.36044133e-01  2.59352550e-02\n",
            "  -2.87400037e-01 -1.31610138e-02 -2.40515500e-01 -4.30574298e-01\n",
            "  -5.49814284e-01 -1.89523622e-01  1.06454343e-01 -7.11219311e-01\n",
            "  -3.67231369e-01  3.33774835e-01 -1.75231367e-01  4.22501057e-01]]\n",
            "  Biases: [ 1.43837735e-01  2.93525636e-01 -4.26825076e-01 -3.60343814e-01\n",
            " -4.07315373e-01 -2.23688290e-01  8.12451988e-02 -6.10842109e-01\n",
            " -2.04362303e-01 -4.59330492e-02 -9.41149518e-02 -1.77689195e-01\n",
            " -3.78541261e-01  8.16031769e-02  2.30015274e-02  1.34792939e-01\n",
            " -5.86918771e-01 -1.95692748e-01 -5.34842432e-01 -1.66116044e-01\n",
            " -1.97590113e-01 -5.17308474e-01 -5.91283739e-02  4.18950543e-02\n",
            "  9.07082856e-02 -1.24282129e-01  9.93278772e-02 -1.38504863e-01\n",
            "  2.12405667e-01  8.14998522e-02  1.50710955e-01  1.72233149e-01\n",
            "  9.48047824e-03 -1.08934306e-01 -8.89816359e-02  1.62763089e-01\n",
            " -1.21572912e-01 -3.56687516e-01 -2.43265644e-01  1.68606505e-01\n",
            "  1.51220486e-01 -9.78061557e-02 -4.04441543e-02 -3.23375501e-02\n",
            " -3.63935833e-04 -1.89750537e-01 -3.13025087e-01 -6.26221478e-01\n",
            "  2.01759532e-01 -9.86271873e-02  1.97141454e-01 -3.68144661e-01\n",
            " -1.91430762e-01 -3.77346545e-01 -1.76559538e-01 -8.23652744e-02\n",
            " -2.37236723e-01 -2.96189070e-01 -2.01587141e-01 -3.00024241e-01\n",
            " -3.35795105e-01 -4.66941781e-02 -4.83097099e-02 -2.72259593e-01]\n",
            "Layer 1 - dense_1:\n",
            "  Weights shape: (64, 64)\n",
            "  Biases shape: (64,)\n",
            "  Weights: [[-0.48354802  0.11405469  0.2926316  ... -0.24619661  0.0645068\n",
            "  -0.00841353]\n",
            " [ 0.02262085 -0.18093067 -0.08128569 ... -0.2002284   0.10504805\n",
            "  -0.0820092 ]\n",
            " [-0.7903982  -0.5956765   0.07649107 ...  0.00933404  0.07193065\n",
            "  -0.02388312]\n",
            " ...\n",
            " [-0.03192379 -0.1766624   0.00211237 ... -0.01753173 -0.49941283\n",
            "  -0.5684302 ]\n",
            " [ 0.04723788 -0.1568747   0.21772873 ... -0.05004396 -0.17132542\n",
            "   0.03522964]\n",
            " [ 0.3615623   0.49136716 -0.37129527 ... -0.06148713 -0.02040827\n",
            "  -0.19621316]]\n",
            "  Biases: [ 5.81799187e-02 -1.90144449e-01  3.88644040e-01 -9.34894532e-02\n",
            " -2.86802202e-01  3.75576854e-01 -2.30274826e-01  2.89036691e-01\n",
            " -6.12558842e-01 -2.65965641e-01  3.34407777e-01  1.58169977e-02\n",
            " -2.83270627e-01 -3.18032727e-02  1.12667836e-01 -5.08089103e-02\n",
            " -2.38446668e-01  6.32862821e-02 -2.47900531e-01 -5.19421041e-01\n",
            " -7.56264552e-02 -1.02002673e-01  4.05769348e-01  9.05880183e-02\n",
            "  2.81776965e-01 -1.26255944e-01  1.83997123e-04 -3.29742193e-01\n",
            "  2.27554306e-01 -2.86402851e-01 -1.78551793e-01 -5.16121268e-01\n",
            " -2.46294644e-02 -2.48547077e-01 -8.56896758e-01 -3.09523046e-02\n",
            "  3.52028161e-01  3.51061046e-01  3.40585858e-01  1.67674422e-01\n",
            "  2.13223815e-01 -2.15881705e-01 -4.84066606e-01  1.93204314e-01\n",
            "  3.38862956e-01  2.80859053e-01  9.80268493e-02  1.42573997e-01\n",
            "  1.52967960e-01 -4.33688045e-01 -1.09175578e-01  7.45157301e-02\n",
            " -5.43757156e-02  3.71182948e-01  3.25134605e-01 -1.52729049e-01\n",
            " -1.03988677e-01  3.28113705e-01  7.83562511e-02  4.08774838e-02\n",
            "  1.76988646e-01 -3.83668751e-01 -2.52697527e-01 -7.58522153e-01]\n",
            "Layer 2 - dense_2:\n",
            "  Weights shape: (64, 1)\n",
            "  Biases shape: (1,)\n",
            "  Weights: [[-0.5598715 ]\n",
            " [-1.8341862 ]\n",
            " [ 0.24215406]\n",
            " [-0.13646233]\n",
            " [-0.14208071]\n",
            " [ 0.26890647]\n",
            " [-0.24787252]\n",
            " [ 0.794387  ]\n",
            " [-0.36752337]\n",
            " [-0.36827785]\n",
            " [ 0.29017305]\n",
            " [ 0.4995756 ]\n",
            " [-0.3276558 ]\n",
            " [ 0.28976429]\n",
            " [ 0.10640655]\n",
            " [ 0.02959821]\n",
            " [-0.28369054]\n",
            " [ 0.35349876]\n",
            " [-0.5463266 ]\n",
            " [-0.49370563]\n",
            " [-0.22893879]\n",
            " [ 0.4962137 ]\n",
            " [ 0.22025752]\n",
            " [ 0.8112422 ]\n",
            " [ 0.16059828]\n",
            " [-0.06443972]\n",
            " [-0.23966932]\n",
            " [-0.34623486]\n",
            " [ 0.25682205]\n",
            " [-0.45900556]\n",
            " [-0.17156582]\n",
            " [-0.4108567 ]\n",
            " [-1.5233002 ]\n",
            " [-0.63845134]\n",
            " [-0.24834855]\n",
            " [-0.20181614]\n",
            " [-1.4691097 ]\n",
            " [ 0.24369766]\n",
            " [ 0.10334773]\n",
            " [ 0.01163025]\n",
            " [-0.5954598 ]\n",
            " [-0.43997934]\n",
            " [-0.22062096]\n",
            " [ 0.09056591]\n",
            " [ 0.29773608]\n",
            " [ 0.0557305 ]\n",
            " [ 0.1295808 ]\n",
            " [-0.00343799]\n",
            " [ 0.30823967]\n",
            " [-0.92032754]\n",
            " [-0.04552272]\n",
            " [ 0.17484774]\n",
            " [-0.17739269]\n",
            " [ 0.15213631]\n",
            " [ 0.2861627 ]\n",
            " [-0.7761416 ]\n",
            " [-0.8338007 ]\n",
            " [ 0.18147153]\n",
            " [ 0.37229806]\n",
            " [ 0.84005076]\n",
            " [-0.48534283]\n",
            " [-0.3401233 ]\n",
            " [-0.28133133]\n",
            " [-0.55056304]]\n",
            "  Biases: [0.48090428]\n"
          ]
        }
      ]
    }
  ]
}