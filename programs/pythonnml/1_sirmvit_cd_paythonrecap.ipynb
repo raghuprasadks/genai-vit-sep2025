{
  "nbformat": 4,
  "nbformat_minor": 0,
  "metadata": {
    "colab": {
      "provenance": []
    },
    "kernelspec": {
      "name": "python3",
      "display_name": "Python 3"
    },
    "language_info": {
      "name": "python"
    }
  },
  "cells": [
    {
      "cell_type": "code",
      "execution_count": 1,
      "metadata": {
        "id": "pP_e92ipG2wZ"
      },
      "outputs": [],
      "source": [
        "class Calculator():\n",
        "  def add(self,n1,n2):\n",
        "    return n1+n2\n",
        "  def subtract(self,n1,n2):\n",
        "    return n1-n2\n",
        "  def multiply(self,n1,n2):\n",
        "    return n1*n2\n",
        "\n"
      ]
    },
    {
      "cell_type": "code",
      "source": [
        "mycalci = Calculator()\n",
        "operation=input(\"Enter operation (+,-,*) \")\n",
        "n1 = int(input(\"enter n1\"))\n",
        "n2 = int(input(\"enter n2\"))\n",
        "if (operation=='+'):\n",
        "  print(mycalci.add(n1,n2))\n",
        "elif (operation=='-'):\n",
        "  print(mycalci.subtract(n1,n2))\n",
        "elif (operation=='*'):\n",
        "  print(mycalci.multiply(n1,n2))\n"
      ],
      "metadata": {
        "colab": {
          "base_uri": "https://localhost:8080/"
        },
        "id": "3ZTGlfN0HVNl",
        "outputId": "58fc847e-2913-4590-b66b-6e28e3ffac20"
      },
      "execution_count": 2,
      "outputs": [
        {
          "output_type": "stream",
          "name": "stdout",
          "text": [
            "Enter operation (+,-,*) +\n",
            "enter n110\n",
            "enter n215\n",
            "25\n"
          ]
        }
      ]
    },
    {
      "cell_type": "code",
      "source": [
        "#modify the code by using constructor"
      ],
      "metadata": {
        "id": "l3pQlvOYIigx"
      },
      "execution_count": null,
      "outputs": []
    },
    {
      "cell_type": "code",
      "source": [
        "class Calculator():\n",
        "  def __init__(self,n1,n2):\n",
        "    self.n1 = n1\n",
        "    self.n2 = n2\n",
        "  def add(self):\n",
        "    return self.n1+self.n2\n",
        "  def subtract(self):\n",
        "    return self.n1-self.n2\n",
        "  def multiply(self):\n",
        "    return self.n1*self.n2"
      ],
      "metadata": {
        "id": "i8fPC_gfJFiK"
      },
      "execution_count": 3,
      "outputs": []
    },
    {
      "cell_type": "code",
      "source": [
        "operation=input(\"Enter operation (+,-,*) \")\n",
        "n1 = int(input(\"enter n1\"))\n",
        "n2 = int(input(\"enter n2\"))\n",
        "mycalcinew = Calculator(n1,n2)\n",
        "if (operation=='+'):\n",
        "  print(mycalcinew.add())\n",
        "elif (operation=='-'):\n",
        "  print(mycalcinew.subtract())\n",
        "elif (operation=='*'):\n",
        "  print(mycalcinew.multiply())"
      ],
      "metadata": {
        "colab": {
          "base_uri": "https://localhost:8080/"
        },
        "id": "9nF83W-kJeOQ",
        "outputId": "91df5dd7-9042-42e3-cb57-3c07db36cfdc"
      },
      "execution_count": 4,
      "outputs": [
        {
          "output_type": "stream",
          "name": "stdout",
          "text": [
            "Enter operation (+,-,*) -\n",
            "enter n1100\n",
            "enter n2200\n",
            "-100\n"
          ]
        }
      ]
    }
  ]
}